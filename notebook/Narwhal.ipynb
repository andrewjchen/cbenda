{
 "cells": [
  {
   "cell_type": "code",
   "execution_count": 1,
   "metadata": {
    "collapsed": false
   },
   "outputs": [],
   "source": [
    "# Cross-notebook include shim\n",
    "with open(\"nbinclude.ipynb\") as nbinclude_f: # don't rename nbinclude_f\n",
    "    import IPython.nbformat.current\n",
    "    get_ipython().run_cell(IPython.nbformat.current.read(nbinclude_f, 'json').worksheets[0].cells[0].input)"
   ]
  },
  {
   "cell_type": "code",
   "execution_count": 2,
   "metadata": {
    "collapsed": false
   },
   "outputs": [
    {
     "name": "stdout",
     "output_type": "stream",
     "text": [
      "Populating the interactive namespace from numpy and matplotlib\n"
     ]
    }
   ],
   "source": [
    "import vrep\n",
    "import math\n",
    "import transformations\n",
    "import numpy as np\n",
    "import matplotlib.pyplot as plt\n",
    "import pylab\n",
    "import numpy as np\n",
    "import numpy\n",
    "import scipy\n",
    "import scipy.stats\n",
    "import scipy.ndimage\n",
    "import time\n",
    "import IPython.display\n",
    "import sys\n",
    "import time"
   ]
  },
  {
   "cell_type": "code",
   "execution_count": 3,
   "metadata": {
    "collapsed": false
   },
   "outputs": [],
   "source": [
    "class Servo: \n",
    "    def __init__(self, cid, base_handle, joint_handle, head_handle):\n",
    "        self.cid = cid\n",
    "        self.base_handle = base_handle\n",
    "        self.joint_handle = joint_handle\n",
    "        self.head_handle = head_handle\n",
    "        self.target_position = 0\n",
    "        self.position_ctrl = False\n",
    "        \n",
    "    def get_position(self):\n",
    "        ec, angle = vrep.simxGetJointPosition(self.cid,\n",
    "                                              self.joint_handle,\n",
    "                                              vrep.simx_opmode_streaming)\n",
    "        return angle\n",
    "    \n",
    "    def get_angle(self):\n",
    "        ec, angles = vrep.simxGetObjectOrientation(self.cid,\n",
    "                                                   self.head_handle,\n",
    "                                                   self.base_handle,\n",
    "                                                   vrep.simx_opmode_streaming)\n",
    "        return angles\n",
    "    \n",
    "    def set_position(self, position):\n",
    "        self.position_ctrl = True\n",
    "        self.target_position = position\n",
    "        return 0\n",
    "    \n",
    "    def set_velocity(self, vel):\n",
    "        return vrep.simxSetJointTargetVelocity(self.cid,\n",
    "                                                self.joint_handle,\n",
    "                                                vel,\n",
    "                                                vrep.simx_opmode_oneshot)\n",
    "    def _get_rel_angle(self, target_angle):\n",
    "        # target_angle is on the /base frame.\n",
    "        # this function returns the angle in the /Neck frame.\n",
    "        angles = self.get_angle()\n",
    "        quat=transformations.quaternion_from_euler(angles[0],\n",
    "                                                   angles[1],\n",
    "                                                   angles[2],\n",
    "                                                   'sxyz')\n",
    "        neck_to_base = transformations.quaternion_matrix(quat)\n",
    "        base_to_neck = numpy.linalg.inv(neck_to_base)\n",
    "        \n",
    "        neck_pt = base_to_neck * np.matrix([[math.cos(target_angle),\n",
    "                                               math.sin(target_angle),\n",
    "                                               0,\n",
    "                                               1]]).T\n",
    "        return math.atan2(neck_pt[1], neck_pt[0])        \n",
    "        \n",
    "    def tick(self):\n",
    "        if self.position_ctrl:\n",
    "            error = self._get_rel_angle(self.target_position)\n",
    "            control_val = 50. * error\n",
    "            self.set_velocity(control_val)"
   ]
  },
  {
   "cell_type": "code",
   "execution_count": 2,
   "metadata": {
    "collapsed": false
   },
   "outputs": [],
   "source": [
    "class Narwhal:\n",
    "    HANDLES = ['leftMotor',\n",
    "               'leftMotor0',\n",
    "               'rightMotor',\n",
    "               'rightMotor0',\n",
    "               'Head',\n",
    "               'Neck',\n",
    "               'zumo',\n",
    "               'linescan_camera',\n",
    "               'Cylinder',\n",
    "               'Cylinder0',\n",
    "               'Cylinder1',\n",
    "               'Cylinder2',\n",
    "               'Cylinder3',\n",
    "               'Cylinder4',\n",
    "               'Cylinder5',\n",
    "               'Cylinder6'\n",
    "               ]\n",
    "    all_narwhals={}\n",
    "    cid = None\n",
    "    def __init__(self, cid, nid=0 ):\n",
    "#         if Narwhal.cid is None:\n",
    "#             Narwhal.cid = vrep.simxStart('127.0.0.1',port,True,True,5000,5)\n",
    "        self.cid = cid\n",
    "        self.nid=nid\n",
    "        \n",
    "        self._handles = {}\n",
    "        for handle in Narwhal.HANDLES:\n",
    "            self._handles[handle] = self._get_handle(handle)\n",
    "            \n",
    "        Narwhal.all_narwhals[nid] = self\n",
    "        self.neck_servo = Servo(self.cid,\n",
    "                                self._handles['zumo'],\n",
    "                                self._handles['Neck'],\n",
    "                                self._handles['Head'])\n",
    "        \n",
    "        \n",
    "    def _get_handle(self, obj_name):\n",
    "        if self.nid is 0:\n",
    "            nid_str = ''\n",
    "        else:\n",
    "            nid_str = '#{0}'.format(self.nid - 1)\n",
    "        ercode, handle = vrep.simxGetObjectHandle(self.cid,\n",
    "                                                  obj_name + nid_str,\n",
    "                                                  vrep.simx_opmode_oneshot_wait)\n",
    "        return handle\n",
    "    def _get_position(self, handle_name):\n",
    "        ec, pos = vrep.simxGetObjectPosition(self.cid,\n",
    "                                             self._handles[handle_name],\n",
    "                                             -1,\n",
    "                                             vrep.simx_opmode_streaming)\n",
    "        return pos\n",
    "    \n",
    "    def _get_euler_angles(self, handle_name):\n",
    "        ec, angles = vrep.simxGetObjectOrientation(self.cid,\n",
    "                                                   self._handles[handle_name],\n",
    "                                                   -1,\n",
    "                                                   vrep.simx_opmode_streaming)\n",
    "        return angles\n",
    "    def _set_joint_velocity(self, joint_name, vel):\n",
    "        return vrep.simxSetJointTargetVelocity(self.cid,\n",
    "                                            self._handles[joint_name],\n",
    "                                            vel,\n",
    "                                            vrep.simx_opmode_oneshot)\n",
    "    def drive(self, left, right):\n",
    "        #TODO http://www.coppeliarobotics.com/helpFiles/en/remoteApiModusOperandi.htm\n",
    "        vrep.simxSetJointTargetVelocity(self.cid,\n",
    "                                        self._handles['leftMotor'],\n",
    "                                        -left,\n",
    "                                        vrep.simx_opmode_oneshot)\n",
    "        vrep.simxSetJointTargetVelocity(self.cid,\n",
    "                                        self._handles['leftMotor0'],\n",
    "                                        -left,\n",
    "                                        vrep.simx_opmode_oneshot)\n",
    "        vrep.simxSetJointTargetVelocity(self.cid,\n",
    "                                        self._handles['rightMotor'],\n",
    "                                        -right,\n",
    "                                        vrep.simx_opmode_oneshot)\n",
    "        vrep.simxSetJointTargetVelocity(self.cid,\n",
    "                                        self._handles['rightMotor0'],\n",
    "                                        -right,\n",
    "                                        vrep.simx_opmode_oneshot)\n",
    "    def set_neck(self, neck_angle):\n",
    "        return self.neck_servo.set_position(neck_angle)\n",
    "#         return vrep.simxSetJointTargetPosition(self.cid,\n",
    "#                                                 self._handles['Neck'],\n",
    "#                                                 neck_angle,\n",
    "#                                                 vrep.simx_opmode_oneshot)\n",
    "    def set_neck_vel(self, neck_vel):\n",
    "        return self.neck_servo.set_velocity(neck_vel)\n",
    "#         return vrep.simxSetJointTargetVelocity(self.cid,\n",
    "#                                                 self._handles['Neck'],\n",
    "#                                                 neck_vel,\n",
    "#                                                 vrep.simx_opmode_oneshot)\n",
    "    def get_neck_pos(self):\n",
    "        ec, angle = vrep.simxGetJointPosition(self.cid,\n",
    "                                              self._handles['Neck'],\n",
    "                                              vrep.simx_opmode_streaming)\n",
    "        return angle\n",
    "    def get_linescan(self):\n",
    "        ec, res, image = vrep.simxGetVisionSensorImage(self.cid,\n",
    "                              self._handles['linescan_camera'],\n",
    "                              0,\n",
    "                              vrep.simx_opmode_streaming)\n",
    "        return image\n",
    "\n",
    "    def _tf_matrix(self, translation, euler_rot):\n",
    "        quat=transformations.quaternion_from_euler(euler_rot[0],\n",
    "                                                   euler_rot[1],\n",
    "                                                   euler_rot[2],\n",
    "                                                   'sxyz')\n",
    "        return numpy.dot(transformations.translation_matrix(translation),\n",
    "                         transformations.quaternion_matrix(quat))\n",
    "    \n",
    "    def lightval(self, pt, cone_h, cone_r):\n",
    "        trans = self._get_position('Head')\n",
    "        euler_rots = self._get_euler_angles('Head')\n",
    "        headmat = self._tf_matrix(trans, euler_rots)\n",
    "        \n",
    "        point0= headmat * np.matrix([[0, 0, 0, 1]]).T\n",
    "        direction_vector = headmat * np.matrix([[1, 0, 0, 1]]).T - point0\n",
    "        \n",
    "        dummypos_vect = np.matrix([[pt[0], pt[1], pt[2], 1]]).T\n",
    "       \n",
    "        dist = np.dot(direction_vector.A1, dummypos_vect.A1)\n",
    "        dist_vect = dist * direction_vector\n",
    "        \n",
    "        radius_at_point = (dist / cone_h) * cone_r\n",
    "        \n",
    "        rel_vect = dummypos_vect - point0\n",
    "        to_get_distance = (rel_vect - dist_vect).A1\n",
    "        ortho_dist = np.sqrt(np.dot(to_get_distance, to_get_distance))\n",
    "        light = radius_at_point - ortho_dist\n",
    "        return 0 if light <=0 else light \n",
    "\n",
    "    def get_opponent_score(self, robot_id):\n",
    "        my_pos = self._get_position('zumo')\n",
    "        return Narwhal.all_narwhals[robot_id].lightval(my_pos, 10., 10.)"
   ]
  },
  {
   "cell_type": "code",
   "execution_count": 5,
   "metadata": {
    "collapsed": false
   },
   "outputs": [],
   "source": [
    "#NBINCLUDE_STOP"
   ]
  },
  {
   "cell_type": "code",
   "execution_count": null,
   "metadata": {
    "collapsed": true
   },
   "outputs": [],
   "source": [
    "cid = vrep.simxStart('127.0.0.1',19990,True,True,5000,5)"
   ]
  },
  {
   "cell_type": "code",
   "execution_count": 5,
   "metadata": {
    "collapsed": false
   },
   "outputs": [],
   "source": [
    "n0 = Narwhal(0,cid)\n",
    "n1 = Narwhal(1,cid)"
   ]
  },
  {
   "cell_type": "code",
   "execution_count": 6,
   "metadata": {
    "collapsed": false
   },
   "outputs": [
    {
     "data": {
      "text/plain": [
       "{0: <__main__.Narwhal instance at 0x7f97a57dfdd0>,\n",
       " 1: <__main__.Narwhal instance at 0x7f97a57dfb00>}"
      ]
     },
     "execution_count": 6,
     "metadata": {},
     "output_type": "execute_result"
    }
   ],
   "source": [
    "Narwhal.all_narwhals"
   ]
  },
  {
   "cell_type": "code",
   "execution_count": 7,
   "metadata": {
    "collapsed": false
   },
   "outputs": [],
   "source": [
    "n0.drive(10,0)"
   ]
  },
  {
   "cell_type": "code",
   "execution_count": 8,
   "metadata": {
    "collapsed": false
   },
   "outputs": [],
   "source": [
    "n0.drive(0,0)"
   ]
  },
  {
   "cell_type": "code",
   "execution_count": 29,
   "metadata": {
    "collapsed": false
   },
   "outputs": [
    {
     "data": {
      "text/plain": [
       "0"
      ]
     },
     "execution_count": 29,
     "metadata": {},
     "output_type": "execute_result"
    }
   ],
   "source": [
    "n0.set_neck(math.pi/3)"
   ]
  },
  {
   "cell_type": "code",
   "execution_count": 14,
   "metadata": {
    "collapsed": false
   },
   "outputs": [
    {
     "data": {
      "text/plain": [
       "0"
      ]
     },
     "execution_count": 14,
     "metadata": {},
     "output_type": "execute_result"
    }
   ],
   "source": [
    "n0.set_neck(0)"
   ]
  },
  {
   "cell_type": "code",
   "execution_count": 30,
   "metadata": {
    "collapsed": false
   },
   "outputs": [
    {
     "ename": "KeyboardInterrupt",
     "evalue": "",
     "output_type": "error",
     "traceback": [
      "\u001b[1;31m---------------------------------------------------------------------------\u001b[0m\n\u001b[1;31mKeyboardInterrupt\u001b[0m                         Traceback (most recent call last)",
      "\u001b[1;32m<ipython-input-30-98532ddf0e3e>\u001b[0m in \u001b[0;36m<module>\u001b[1;34m()\u001b[0m\n\u001b[0;32m      1\u001b[0m \u001b[1;32mwhile\u001b[0m \u001b[0mTrue\u001b[0m\u001b[1;33m:\u001b[0m\u001b[1;33m\u001b[0m\u001b[0m\n\u001b[0;32m      2\u001b[0m     \u001b[0mn0\u001b[0m\u001b[1;33m.\u001b[0m\u001b[0mneck_servo\u001b[0m\u001b[1;33m.\u001b[0m\u001b[0mtick\u001b[0m\u001b[1;33m(\u001b[0m\u001b[1;33m)\u001b[0m\u001b[1;33m\u001b[0m\u001b[0m\n\u001b[1;32m----> 3\u001b[1;33m     \u001b[0mtime\u001b[0m\u001b[1;33m.\u001b[0m\u001b[0msleep\u001b[0m\u001b[1;33m(\u001b[0m\u001b[1;36m.01\u001b[0m\u001b[1;33m)\u001b[0m\u001b[1;33m\u001b[0m\u001b[0m\n\u001b[0m",
      "\u001b[1;31mKeyboardInterrupt\u001b[0m: "
     ]
    }
   ],
   "source": [
    "while True:\n",
    "    n0.neck_servo.tick()\n",
    "    time.sleep(.01)"
   ]
  },
  {
   "cell_type": "code",
   "execution_count": 11,
   "metadata": {
    "collapsed": false
   },
   "outputs": [
    {
     "ename": "KeyboardInterrupt",
     "evalue": "",
     "output_type": "error",
     "traceback": [
      "\u001b[1;31m---------------------------------------------------------------------------\u001b[0m\n\u001b[1;31mKeyboardInterrupt\u001b[0m                         Traceback (most recent call last)",
      "\u001b[1;32m<ipython-input-11-317430703676>\u001b[0m in \u001b[0;36m<module>\u001b[1;34m()\u001b[0m\n\u001b[0;32m     11\u001b[0m         \u001b[1;32mfor\u001b[0m \u001b[0mi\u001b[0m \u001b[1;32min\u001b[0m \u001b[0mrange\u001b[0m \u001b[1;33m(\u001b[0m\u001b[1;36m10\u001b[0m\u001b[1;33m)\u001b[0m\u001b[1;33m:\u001b[0m\u001b[1;33m\u001b[0m\u001b[0m\n\u001b[0;32m     12\u001b[0m             \u001b[0mn0\u001b[0m\u001b[1;33m.\u001b[0m\u001b[0mneck_servo\u001b[0m\u001b[1;33m.\u001b[0m\u001b[0mtick\u001b[0m\u001b[1;33m(\u001b[0m\u001b[1;33m)\u001b[0m\u001b[1;33m\u001b[0m\u001b[0m\n\u001b[1;32m---> 13\u001b[1;33m             \u001b[0mtime\u001b[0m\u001b[1;33m.\u001b[0m\u001b[0msleep\u001b[0m\u001b[1;33m(\u001b[0m\u001b[1;36m.01\u001b[0m\u001b[1;33m)\u001b[0m\u001b[1;33m\u001b[0m\u001b[0m\n\u001b[0m",
      "\u001b[1;31mKeyboardInterrupt\u001b[0m: "
     ]
    }
   ],
   "source": [
    "targets0 = np.linspace(2*math.pi, 0)\n",
    "targets1 = np.linspace(0, 2*math.pi)\n",
    "while True:\n",
    "    for target in targets0:\n",
    "        n0.set_neck(target)\n",
    "        for i in range (10):\n",
    "            n0.neck_servo.tick()\n",
    "            time.sleep(.01)\n",
    "    for target in targets1:\n",
    "        n0.set_neck(target)\n",
    "        for i in range (10):\n",
    "            n0.neck_servo.tick()\n",
    "            time.sleep(.01)"
   ]
  },
  {
   "cell_type": "code",
   "execution_count": 22,
   "metadata": {
    "collapsed": false
   },
   "outputs": [
    {
     "data": {
      "text/plain": [
       "0"
      ]
     },
     "execution_count": 22,
     "metadata": {},
     "output_type": "execute_result"
    }
   ],
   "source": [
    "n0.set_neck_vel(.1)"
   ]
  },
  {
   "cell_type": "code",
   "execution_count": 17,
   "metadata": {
    "collapsed": false
   },
   "outputs": [
    {
     "data": {
      "text/plain": [
       "0"
      ]
     },
     "execution_count": 17,
     "metadata": {},
     "output_type": "execute_result"
    }
   ],
   "source": [
    "n0.set_neck_vel(-.1)"
   ]
  },
  {
   "cell_type": "code",
   "execution_count": 23,
   "metadata": {
    "collapsed": false
   },
   "outputs": [
    {
     "data": {
      "text/plain": [
       "0"
      ]
     },
     "execution_count": 23,
     "metadata": {},
     "output_type": "execute_result"
    }
   ],
   "source": [
    "n0.set_neck_vel(0)"
   ]
  },
  {
   "cell_type": "code",
   "execution_count": 25,
   "metadata": {
    "collapsed": false
   },
   "outputs": [
    {
     "data": {
      "text/plain": [
       "<matplotlib.collections.PolyCollection at 0x7f97a36a5cd0>"
      ]
     },
     "execution_count": 25,
     "metadata": {},
     "output_type": "execute_result"
    },
    {
     "data": {
      "image/png": "[encoded data removed]",
      "text/plain": [
       "<matplotlib.figure.Figure at 0x7f97a384b990>"
      ]
     },
     "metadata": {},
     "output_type": "display_data"
    }
   ],
   "source": [
    "img = np.array(n0.get_linescan())\n",
    "xs = np.arange(0, img.shape[0])\n",
    "plt.fill_between(xs, 0, img)"
   ]
  },
  {
   "cell_type": "code",
   "execution_count": 26,
   "metadata": {
    "collapsed": false
   },
   "outputs": [
    {
     "data": {
      "text/plain": [
       "(170.01538461538462,)"
      ]
     },
     "execution_count": 26,
     "metadata": {},
     "output_type": "execute_result"
    }
   ],
   "source": [
    "scipy.ndimage.measurements.center_of_mass(img)"
   ]
  },
  {
   "cell_type": "code",
   "execution_count": 27,
   "metadata": {
    "collapsed": false
   },
   "outputs": [
    {
     "name": "stdout",
     "output_type": "stream",
     "text": [
      "(139.07258064516128,)\n"
     ]
    },
    {
     "ename": "KeyboardInterrupt",
     "evalue": "",
     "output_type": "error",
     "traceback": [
      "\u001b[1;31m---------------------------------------------------------------------------\u001b[0m\n\u001b[1;31mKeyboardInterrupt\u001b[0m                         Traceback (most recent call last)",
      "\u001b[1;32m<ipython-input-27-a479ee85b130>\u001b[0m in \u001b[0;36m<module>\u001b[1;34m()\u001b[0m\n\u001b[0;32m      4\u001b[0m     \u001b[1;32mprint\u001b[0m \u001b[0mscipy\u001b[0m\u001b[1;33m.\u001b[0m\u001b[0mndimage\u001b[0m\u001b[1;33m.\u001b[0m\u001b[0mmeasurements\u001b[0m\u001b[1;33m.\u001b[0m\u001b[0mcenter_of_mass\u001b[0m\u001b[1;33m(\u001b[0m\u001b[0mimg\u001b[0m\u001b[1;33m)\u001b[0m\u001b[1;33m\u001b[0m\u001b[0m\n\u001b[0;32m      5\u001b[0m     \u001b[0msys\u001b[0m\u001b[1;33m.\u001b[0m\u001b[0mstdout\u001b[0m\u001b[1;33m.\u001b[0m\u001b[0mflush\u001b[0m\u001b[1;33m(\u001b[0m\u001b[1;33m)\u001b[0m\u001b[1;33m\u001b[0m\u001b[0m\n\u001b[1;32m----> 6\u001b[1;33m     \u001b[0mtime\u001b[0m\u001b[1;33m.\u001b[0m\u001b[0msleep\u001b[0m\u001b[1;33m(\u001b[0m\u001b[1;36m.05\u001b[0m\u001b[1;33m)\u001b[0m\u001b[1;33m\u001b[0m\u001b[0m\n\u001b[0m",
      "\u001b[1;31mKeyboardInterrupt\u001b[0m: "
     ]
    }
   ],
   "source": [
    "while True:\n",
    "    img = np.array(n0.get_linescan())\n",
    "    IPython.display.clear_output()\n",
    "    print scipy.ndimage.measurements.center_of_mass(img)\n",
    "    sys.stdout.flush()\n",
    "    time.sleep(.05)"
   ]
  },
  {
   "cell_type": "code",
   "execution_count": 26,
   "metadata": {
    "collapsed": false
   },
   "outputs": [
    {
     "ename": "KeyboardInterrupt",
     "evalue": "",
     "output_type": "error",
     "traceback": [
      "\u001b[1;31m---------------------------------------------------------------------------\u001b[0m\n\u001b[1;31mKeyboardInterrupt\u001b[0m                         Traceback (most recent call last)",
      "\u001b[1;32m<ipython-input-26-9bd49e14b640>\u001b[0m in \u001b[0;36m<module>\u001b[1;34m()\u001b[0m\n\u001b[0;32m     10\u001b[0m         \u001b[0mIPython\u001b[0m\u001b[1;33m.\u001b[0m\u001b[0mdisplay\u001b[0m\u001b[1;33m.\u001b[0m\u001b[0mclear_output\u001b[0m\u001b[1;33m(\u001b[0m\u001b[1;33m)\u001b[0m\u001b[1;33m\u001b[0m\u001b[0m\n\u001b[0;32m     11\u001b[0m         \u001b[1;32mprint\u001b[0m \u001b[0mcom\u001b[0m\u001b[1;33m,\u001b[0m \u001b[0mangle\u001b[0m\u001b[1;33m\u001b[0m\u001b[0m\n\u001b[1;32m---> 12\u001b[1;33m     \u001b[0msys\u001b[0m\u001b[1;33m.\u001b[0m\u001b[0mstdout\u001b[0m\u001b[1;33m.\u001b[0m\u001b[0mflush\u001b[0m\u001b[1;33m(\u001b[0m\u001b[1;33m)\u001b[0m\u001b[1;33m\u001b[0m\u001b[0m\n\u001b[0m\u001b[0;32m     13\u001b[0m     \u001b[0mtime\u001b[0m\u001b[1;33m.\u001b[0m\u001b[0msleep\u001b[0m\u001b[1;33m(\u001b[0m\u001b[1;36m.01\u001b[0m\u001b[1;33m)\u001b[0m\u001b[1;33m\u001b[0m\u001b[0m\n",
      "\u001b[1;32m/usr/local/lib/python2.7/dist-packages/IPython/kernel/zmq/iostream.pyc\u001b[0m in \u001b[0;36mflush\u001b[1;34m(self)\u001b[0m\n\u001b[0;32m    159\u001b[0m                 \u001b[0mcontent\u001b[0m \u001b[1;33m=\u001b[0m \u001b[1;33m{\u001b[0m\u001b[1;34mu'name'\u001b[0m\u001b[1;33m:\u001b[0m\u001b[0mself\u001b[0m\u001b[1;33m.\u001b[0m\u001b[0mname\u001b[0m\u001b[1;33m,\u001b[0m \u001b[1;34mu'data'\u001b[0m\u001b[1;33m:\u001b[0m\u001b[0mdata\u001b[0m\u001b[1;33m}\u001b[0m\u001b[1;33m\u001b[0m\u001b[0m\n\u001b[0;32m    160\u001b[0m                 msg = self.session.send(self.pub_socket, u'stream', content=content,\n\u001b[1;32m--> 161\u001b[1;33m                                        parent=self.parent_header, ident=self.topic)\n\u001b[0m\u001b[0;32m    162\u001b[0m \u001b[1;33m\u001b[0m\u001b[0m\n\u001b[0;32m    163\u001b[0m                 \u001b[1;32mif\u001b[0m \u001b[0mhasattr\u001b[0m\u001b[1;33m(\u001b[0m\u001b[0mself\u001b[0m\u001b[1;33m.\u001b[0m\u001b[0mpub_socket\u001b[0m\u001b[1;33m,\u001b[0m \u001b[1;34m'flush'\u001b[0m\u001b[1;33m)\u001b[0m\u001b[1;33m:\u001b[0m\u001b[1;33m\u001b[0m\u001b[0m\n",
      "\u001b[1;32m/usr/local/lib/python2.7/dist-packages/IPython/kernel/zmq/session.pyc\u001b[0m in \u001b[0;36msend\u001b[1;34m(self, stream, msg_or_type, content, parent, ident, buffers, track, header, metadata)\u001b[0m\n\u001b[0;32m    642\u001b[0m             \u001b[1;32mreturn\u001b[0m\u001b[1;33m\u001b[0m\u001b[0m\n\u001b[0;32m    643\u001b[0m         \u001b[0mbuffers\u001b[0m \u001b[1;33m=\u001b[0m \u001b[1;33m[\u001b[0m\u001b[1;33m]\u001b[0m \u001b[1;32mif\u001b[0m \u001b[0mbuffers\u001b[0m \u001b[1;32mis\u001b[0m \u001b[0mNone\u001b[0m \u001b[1;32melse\u001b[0m \u001b[0mbuffers\u001b[0m\u001b[1;33m\u001b[0m\u001b[0m\n\u001b[1;32m--> 644\u001b[1;33m         \u001b[0mto_send\u001b[0m \u001b[1;33m=\u001b[0m \u001b[0mself\u001b[0m\u001b[1;33m.\u001b[0m\u001b[0mserialize\u001b[0m\u001b[1;33m(\u001b[0m\u001b[0mmsg\u001b[0m\u001b[1;33m,\u001b[0m \u001b[0mident\u001b[0m\u001b[1;33m)\u001b[0m\u001b[1;33m\u001b[0m\u001b[0m\n\u001b[0m\u001b[0;32m    645\u001b[0m         \u001b[0mto_send\u001b[0m\u001b[1;33m.\u001b[0m\u001b[0mextend\u001b[0m\u001b[1;33m(\u001b[0m\u001b[0mbuffers\u001b[0m\u001b[1;33m)\u001b[0m\u001b[1;33m\u001b[0m\u001b[0m\n\u001b[0;32m    646\u001b[0m         \u001b[0mlongest\u001b[0m \u001b[1;33m=\u001b[0m \u001b[0mmax\u001b[0m\u001b[1;33m(\u001b[0m\u001b[1;33m[\u001b[0m \u001b[0mlen\u001b[0m\u001b[1;33m(\u001b[0m\u001b[0ms\u001b[0m\u001b[1;33m)\u001b[0m \u001b[1;32mfor\u001b[0m \u001b[0ms\u001b[0m \u001b[1;32min\u001b[0m \u001b[0mto_send\u001b[0m \u001b[1;33m]\u001b[0m\u001b[1;33m)\u001b[0m\u001b[1;33m\u001b[0m\u001b[0m\n",
      "\u001b[1;32m/usr/local/lib/python2.7/dist-packages/IPython/kernel/zmq/session.pyc\u001b[0m in \u001b[0;36mserialize\u001b[1;34m(self, msg, ident)\u001b[0m\n\u001b[0;32m    561\u001b[0m         real_message = [self.pack(msg['header']),\n\u001b[0;32m    562\u001b[0m                         \u001b[0mself\u001b[0m\u001b[1;33m.\u001b[0m\u001b[0mpack\u001b[0m\u001b[1;33m(\u001b[0m\u001b[0mmsg\u001b[0m\u001b[1;33m[\u001b[0m\u001b[1;34m'parent_header'\u001b[0m\u001b[1;33m]\u001b[0m\u001b[1;33m)\u001b[0m\u001b[1;33m,\u001b[0m\u001b[1;33m\u001b[0m\u001b[0m\n\u001b[1;32m--> 563\u001b[1;33m                         \u001b[0mself\u001b[0m\u001b[1;33m.\u001b[0m\u001b[0mpack\u001b[0m\u001b[1;33m(\u001b[0m\u001b[0mmsg\u001b[0m\u001b[1;33m[\u001b[0m\u001b[1;34m'metadata'\u001b[0m\u001b[1;33m]\u001b[0m\u001b[1;33m)\u001b[0m\u001b[1;33m,\u001b[0m\u001b[1;33m\u001b[0m\u001b[0m\n\u001b[0m\u001b[0;32m    564\u001b[0m                         \u001b[0mcontent\u001b[0m\u001b[1;33m,\u001b[0m\u001b[1;33m\u001b[0m\u001b[0m\n\u001b[0;32m    565\u001b[0m         ]\n",
      "\u001b[1;32m/usr/local/lib/python2.7/dist-packages/IPython/utils/traitlets.pyc\u001b[0m in \u001b[0;36m__get__\u001b[1;34m(self, obj, cls)\u001b[0m\n\u001b[0;32m    323\u001b[0m         \u001b[0mobj\u001b[0m\u001b[1;33m.\u001b[0m\u001b[0m_trait_dyn_inits\u001b[0m\u001b[1;33m[\u001b[0m\u001b[0mself\u001b[0m\u001b[1;33m.\u001b[0m\u001b[0mname\u001b[0m\u001b[1;33m]\u001b[0m \u001b[1;33m=\u001b[0m \u001b[0mmeth_name\u001b[0m\u001b[1;33m\u001b[0m\u001b[0m\n\u001b[0;32m    324\u001b[0m \u001b[1;33m\u001b[0m\u001b[0m\n\u001b[1;32m--> 325\u001b[1;33m     \u001b[1;32mdef\u001b[0m \u001b[0m__get__\u001b[0m\u001b[1;33m(\u001b[0m\u001b[0mself\u001b[0m\u001b[1;33m,\u001b[0m \u001b[0mobj\u001b[0m\u001b[1;33m,\u001b[0m \u001b[0mcls\u001b[0m\u001b[1;33m=\u001b[0m\u001b[0mNone\u001b[0m\u001b[1;33m)\u001b[0m\u001b[1;33m:\u001b[0m\u001b[1;33m\u001b[0m\u001b[0m\n\u001b[0m\u001b[0;32m    326\u001b[0m         \"\"\"Get the value of the trait by self.name for the instance.\n\u001b[0;32m    327\u001b[0m \u001b[1;33m\u001b[0m\u001b[0m\n",
      "\u001b[1;31mKeyboardInterrupt\u001b[0m: "
     ]
    }
   ],
   "source": [
    "angle = math.pi/5.\n",
    "center = img.shape[0]/2\n",
    "while True:\n",
    "    img = np.array(n0.get_linescan())\n",
    "    com = scipy.ndimage.measurements.center_of_mass(img)[0]\n",
    "    if com is not np.nan:\n",
    "        error = center - com\n",
    "        angle = angle + ( .001 * error)\n",
    "        n0.set_neck(angle)\n",
    "        IPython.display.clear_output()\n",
    "        print com, angle\n",
    "    sys.stdout.flush()\n",
    "    time.sleep(.01)"
   ]
  },
  {
   "cell_type": "code",
   "execution_count": 1,
   "metadata": {
    "collapsed": false
   },
   "outputs": [
    {
     "ename": "NameError",
     "evalue": "name 'math' is not defined",
     "output_type": "error",
     "traceback": [
      "\u001b[1;31m---------------------------------------------------------------------------\u001b[0m",
      "\u001b[1;31mNameError\u001b[0m                                 Traceback (most recent call last)",
      "\u001b[1;32m<ipython-input-1-f8bff68fa6f4>\u001b[0m in \u001b[0;36m<module>\u001b[1;34m()\u001b[0m\n\u001b[1;32m----> 1\u001b[1;33m \u001b[0mangle\u001b[0m \u001b[1;33m=\u001b[0m \u001b[0mmath\u001b[0m\u001b[1;33m.\u001b[0m\u001b[0mpi\u001b[0m\u001b[1;33m/\u001b[0m\u001b[1;36m5.\u001b[0m\u001b[1;33m\u001b[0m\u001b[0m\n\u001b[0m\u001b[0;32m      2\u001b[0m \u001b[0mcenter\u001b[0m \u001b[1;33m=\u001b[0m \u001b[0mimg\u001b[0m\u001b[1;33m.\u001b[0m\u001b[0mshape\u001b[0m\u001b[1;33m[\u001b[0m\u001b[1;36m0\u001b[0m\u001b[1;33m]\u001b[0m\u001b[1;33m/\u001b[0m\u001b[1;36m2\u001b[0m\u001b[1;33m\u001b[0m\u001b[0m\n\u001b[0;32m      3\u001b[0m \u001b[1;32mwhile\u001b[0m \u001b[0mTrue\u001b[0m\u001b[1;33m:\u001b[0m\u001b[1;33m\u001b[0m\u001b[0m\n\u001b[0;32m      4\u001b[0m     \u001b[0mimg\u001b[0m \u001b[1;33m=\u001b[0m \u001b[0mnp\u001b[0m\u001b[1;33m.\u001b[0m\u001b[0marray\u001b[0m\u001b[1;33m(\u001b[0m\u001b[0mn0\u001b[0m\u001b[1;33m.\u001b[0m\u001b[0mget_linescan\u001b[0m\u001b[1;33m(\u001b[0m\u001b[1;33m)\u001b[0m\u001b[1;33m)\u001b[0m\u001b[1;33m\u001b[0m\u001b[0m\n\u001b[0;32m      5\u001b[0m     \u001b[0mcom\u001b[0m \u001b[1;33m=\u001b[0m \u001b[0mscipy\u001b[0m\u001b[1;33m.\u001b[0m\u001b[0mndimage\u001b[0m\u001b[1;33m.\u001b[0m\u001b[0mmeasurements\u001b[0m\u001b[1;33m.\u001b[0m\u001b[0mcenter_of_mass\u001b[0m\u001b[1;33m(\u001b[0m\u001b[0mimg\u001b[0m\u001b[1;33m)\u001b[0m\u001b[1;33m[\u001b[0m\u001b[1;36m0\u001b[0m\u001b[1;33m]\u001b[0m\u001b[1;33m\u001b[0m\u001b[0m\n",
      "\u001b[1;31mNameError\u001b[0m: name 'math' is not defined"
     ]
    }
   ],
   "source": [
    "angle = math.pi/5.\n",
    "center = img.shape[0]/2\n",
    "while True:\n",
    "    img = np.array(n0.get_linescan())\n",
    "    com = scipy.ndimage.measurements.center_of_mass(img)[0]\n",
    "    if com is not np.nan:\n",
    "        error = center - com\n",
    "        vel = 0.5 * error\n",
    "        n0.set_neck_vel(vel)\n",
    "        IPython.display.clear_output()\n",
    "        print com, angle\n",
    "    sys.stdout.flush()\n",
    "    time.sleep(.01)"
   ]
  },
  {
   "cell_type": "code",
   "execution_count": 31,
   "metadata": {
    "collapsed": false
   },
   "outputs": [
    {
     "data": {
      "text/plain": [
       "<matplotlib.colorbar.Colorbar instance at 0x7f97a3569680>"
      ]
     },
     "execution_count": 31,
     "metadata": {},
     "output_type": "execute_result"
    },
    {
     "data": {
      "image/png": "[encoded data removed]",
      "text/plain": [
       "<matplotlib.figure.Figure at 0x7f97a36efd90>"
      ]
     },
     "metadata": {},
     "output_type": "display_data"
    }
   ],
   "source": [
    "xs = np.linspace(-1.0, 1.0, 100)\n",
    "ys = np.linspace(-1.0, 1.0, 100)\n",
    "img=np.ndarray(shape=(len(ys), len(xs)), dtype=float)\n",
    "for i in xrange(len(xs)):\n",
    "    for j in xrange(len(ys)):\n",
    "        x = xs[i]\n",
    "        y = ys[j]\n",
    "        img[i][j] = n0.lightval((x,y,0), 10., 10.)\n",
    "plt.imshow(img)\n",
    "plt.colorbar()"
   ]
  }
 ],
 "metadata": {
  "kernelspec": {
   "display_name": "Python 2",
   "language": "python",
   "name": "python2"
  },
  "language_info": {
   "codemirror_mode": {
    "name": "ipython",
    "version": 2
   },
   "file_extension": ".py",
   "mimetype": "text/x-python",
   "name": "python",
   "nbconvert_exporter": "python",
   "pygments_lexer": "ipython2",
   "version": "2.7.6"
  }
 },
 "nbformat": 4,
 "nbformat_minor": 0
}

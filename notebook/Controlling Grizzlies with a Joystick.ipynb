{
 "cells": [
  {
   "cell_type": "markdown",
   "metadata": {},
   "source": [
    "## Setup"
   ]
  },
  {
   "cell_type": "markdown",
   "metadata": {},
   "source": [
    "* Any number of Grizzlies connected to this computer via USB.\n",
    "* An XBox Controller connected to this computer via USB."
   ]
  },
  {
   "cell_type": "markdown",
   "metadata": {},
   "source": [
    "## Software Setup"
   ]
  },
  {
   "cell_type": "markdown",
   "metadata": {},
   "source": [
    "Summary:\n",
    "* IPython Notebook: http://ipython.org/install.html\n",
    "* Python-Grizzly https://github.com/pioneers/python-grizzly with the multiple grizzlies patch (https://github.com/pioneers/python-grizzly/pull/8)\n",
    "* Install `pygame`"
   ]
  },
  {
   "cell_type": "markdown",
   "metadata": {},
   "source": [
    "#### Install `pip`\n",
    "```bash\n",
    "$ sudo apt-get install python-pip\n",
    "```"
   ]
  },
  {
   "cell_type": "markdown",
   "metadata": {},
   "source": [
    "#### Install `ipython notebook`\n",
    "```bash\n",
    "$ sudo pip install ipython[notebook]\n",
    "```"
   ]
  },
  {
   "cell_type": "markdown",
   "metadata": {},
   "source": [
    "#### Install `python-grizzly` from the multigrizzly patch\n",
    "```bash\n",
    "$ git clone https://github.com/andrewjchen/python-grizzly.git\n",
    "$ cd python-grizzly.git\n",
    "$ sudo pip install pyusb\n",
    "$ sudo python setup.py install\n",
    "````\n",
    "Log in and out, and ensure you are in the `sudo` group."
   ]
  },
  {
   "cell_type": "markdown",
   "metadata": {},
   "source": [
    "#### Install `pygame`\n",
    "``` bash\n",
    "$ sudo pip install pygame\n",
    "```"
   ]
  },
  {
   "cell_type": "code",
   "execution_count": 6,
   "metadata": {
    "collapsed": true
   },
   "outputs": [],
   "source": [
    "import pygame\n",
    "from grizzly import *\n",
    "import sys\n",
    "from IPython.display import display, clear_output\n",
    "import time"
   ]
  },
  {
   "cell_type": "code",
   "execution_count": 2,
   "metadata": {
    "collapsed": false,
    "scrolled": true
   },
   "outputs": [
    {
     "data": {
      "text/plain": [
       "[6]"
      ]
     },
     "execution_count": 2,
     "metadata": {},
     "output_type": "execute_result"
    }
   ],
   "source": [
    "Grizzly.get_all_ids()"
   ]
  },
  {
   "cell_type": "markdown",
   "metadata": {},
   "source": [
    "<img src=\"https://pioneers.berkeley.edu/w/images/1/11/AddressSelect2013.svg\">"
   ]
  },
  {
   "cell_type": "code",
   "execution_count": 3,
   "metadata": {
    "collapsed": false
   },
   "outputs": [],
   "source": [
    "addrs=Grizzly.get_all_ids()\n",
    "gs=[] \n",
    "for addr in addrs:\n",
    "    g = Grizzly(addr)\n",
    "    g.set_mode(ControlMode.NO_PID, DriveMode.DRIVE_COAST)\n",
    "    g.limit_acceleration(142)\n",
    "    g.limit_current(10)\n",
    "    gs.append(g)\n",
    "for g in gs:\n",
    "    g.set_target(0)"
   ]
  },
  {
   "cell_type": "code",
   "execution_count": 7,
   "metadata": {
    "collapsed": false
   },
   "outputs": [],
   "source": [
    "pygame.init()\n",
    "pygame.joystick.init()\n",
    "j = pygame.joystick.Joystick(0)\n",
    "j.init()"
   ]
  },
  {
   "cell_type": "code",
   "execution_count": 11,
   "metadata": {
    "collapsed": true
   },
   "outputs": [],
   "source": [
    "g = gs[0]"
   ]
  },
  {
   "cell_type": "code",
   "execution_count": null,
   "metadata": {
    "collapsed": true
   },
   "outputs": [],
   "source": [
    "g."
   ]
  },
  {
   "cell_type": "code",
   "execution_count": null,
   "metadata": {
    "collapsed": false
   },
   "outputs": [
    {
     "name": "stdout",
     "output_type": "stream",
     "text": [
      "#\n",
      "-0.0739820075758\n"
     ]
    }
   ],
   "source": [
    "i=0\n",
    "while True:\n",
    "    i+=1\n",
    "    pygame.event.get()\n",
    "    \n",
    "    throttles = list((-j.get_axis(1), -j.get_axis(4)))\n",
    "    for i in range(len(throttles)):\n",
    "        if abs(throttles[i]) < .1:\n",
    "            throttles[i] = 0\n",
    "    \n",
    "    for i in range(len(gs)):\n",
    "        gs[i].set_target(100.0*throttles[i])\n",
    "    \n",
    "#     throttle = -j.get_axis(1)\n",
    "#     if abs(throttle) < .1:\n",
    "#         throttle = 0\n",
    "#     g.set_target(100.0*throttle)\n",
    "    clear_output()\n",
    "    current = gs[0].read_motor_current()\n",
    "    print('#' * int(16 * abs(current)))\n",
    "    print current\n",
    "    sys.stdout.flush()\n",
    "    time.sleep(0.01)\n",
    "    \n"
   ]
  },
  {
   "cell_type": "code",
   "execution_count": null,
   "metadata": {
    "collapsed": true
   },
   "outputs": [],
   "source": []
  }
 ],
 "metadata": {
  "kernelspec": {
   "display_name": "Python 2",
   "language": "python",
   "name": "python2"
  },
  "language_info": {
   "codemirror_mode": {
    "name": "ipython",
    "version": 2
   },
   "file_extension": ".py",
   "mimetype": "text/x-python",
   "name": "python",
   "nbconvert_exporter": "python",
   "pygments_lexer": "ipython2",
   "version": "2.7.6"
  }
 },
 "nbformat": 4,
 "nbformat_minor": 0
}

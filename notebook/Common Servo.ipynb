{
 "cells": [
  {
   "cell_type": "code",
   "execution_count": 1,
   "metadata": {
    "collapsed": false
   },
   "outputs": [
    {
     "name": "stderr",
     "output_type": "stream",
     "text": [
      "/usr/local/lib/python2.7/dist-packages/IPython/nbformat/current.py:19: UserWarning: IPython.nbformat.current is deprecated.\n",
      "\n",
      "- use IPython.nbformat for read/write/validate public API\n",
      "- use IPython.nbformat.vX directly to composing notebooks of a particular version\n",
      "\n",
      "  \"\"\")\n"
     ]
    }
   ],
   "source": [
    "# Cross-notebook include shim\n",
    "with open(\"nbinclude.ipynb\") as nbinclude_f: # don't rename nbinclude_f\n",
    "    import IPython.nbformat.current\n",
    "    get_ipython().run_cell(IPython.nbformat.current.read(nbinclude_f, 'json').worksheets[0].cells[0].input)"
   ]
  },
  {
   "cell_type": "code",
   "execution_count": 2,
   "metadata": {
    "collapsed": true
   },
   "outputs": [],
   "source": [
    "nbinclude('Common API')"
   ]
  },
  {
   "cell_type": "code",
   "execution_count": 9,
   "metadata": {
    "collapsed": true
   },
   "outputs": [],
   "source": [
    "from pyfirmata import Arduino, util\n",
    "import pyfirmata\n",
    "import time"
   ]
  },
  {
   "cell_type": "code",
   "execution_count": 4,
   "metadata": {
    "collapsed": false
   },
   "outputs": [],
   "source": [
    "class MyServo(Servo):\n",
    "    _firmatas = {}\n",
    "    def __init__(self, name):\n",
    "        super(MyServo, self).__init__(name)\n",
    "        self._arduino_name = MyServo._get_device_name(name)\n",
    "        if self._arduino_name not in MyServo._firmatas:\n",
    "            MyServo._firmatas[self._arduino_name] = Arduino(self._arduino_name)\n",
    "        self._device = MyServo._firmatas[self._arduino_name]\n",
    "        self._pin_number = MyServo._get_pin_name(name)\n",
    "        self._device.digital[self._pin_number].mode = pyfirmata.SERVO\n",
    "        \n",
    "    @staticmethod\n",
    "    def _get_device_name(name):\n",
    "        string = \"\"\n",
    "        for sub in name.split('/')[1:-1]:\n",
    "            string+='/'+sub\n",
    "        return string\n",
    "    \n",
    "    @staticmethod\n",
    "    def _get_pin_name(name):\n",
    "        return int(name.split('/')[-1])\n",
    "    \n",
    "    @property\n",
    "    def position(self):\n",
    "        value = Servo.position.fget(self)\n",
    "        return value\n",
    "    \n",
    "    @position.setter\n",
    "    def position(self, value):\n",
    "        Servo.position.fset(self, value)\n",
    "        self._device.digital[self._pin_number].write(value)"
   ]
  },
  {
   "cell_type": "code",
   "execution_count": null,
   "metadata": {
    "collapsed": true
   },
   "outputs": [],
   "source": [
    "#NBINCLUDE_STOP"
   ]
  },
  {
   "cell_type": "code",
   "execution_count": 5,
   "metadata": {
    "collapsed": false
   },
   "outputs": [],
   "source": [
    "ms = MyServo('/dev/ttyACM0/8')"
   ]
  },
  {
   "cell_type": "code",
   "execution_count": 8,
   "metadata": {
    "collapsed": true
   },
   "outputs": [],
   "source": [
    "ms.position = 10"
   ]
  },
  {
   "cell_type": "code",
   "execution_count": 10,
   "metadata": {
    "collapsed": true
   },
   "outputs": [],
   "source": [
    "for i in range (180):\n",
    "    ms.position = i\n",
    "    time.sleep(.01)\n",
    "for i in range(180, 0, -1):\n",
    "    ms.position = i\n",
    "    time.sleep(.01)"
   ]
  }
 ],
 "metadata": {
  "kernelspec": {
   "display_name": "Python 2",
   "language": "python",
   "name": "python2"
  },
  "language_info": {
   "codemirror_mode": {
    "name": "ipython",
    "version": 2
   },
   "file_extension": ".py",
   "mimetype": "text/x-python",
   "name": "python",
   "nbconvert_exporter": "python",
   "pygments_lexer": "ipython2",
   "version": "2.7.6"
  }
 },
 "nbformat": 4,
 "nbformat_minor": 0
}

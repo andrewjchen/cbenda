{
 "cells": [
  {
   "cell_type": "markdown",
   "metadata": {},
   "source": [
    "This notebook shows a simple example of performing a simulation 'run', recording the full simulation state during the simulation, and serializing the result to a python pickle."
   ]
  },
  {
   "cell_type": "code",
   "execution_count": 2,
   "metadata": {
    "collapsed": false
   },
   "outputs": [],
   "source": [
    "# Cross-notebook include shim\n",
    "with open(\"nbinclude.ipynb\") as nbinclude_f: # don't rename nbinclude_f\n",
    "    import IPython.nbformat.current\n",
    "    get_ipython().run_cell(IPython.nbformat.current.read(nbinclude_f, 'json').worksheets[0].cells[0].input)"
   ]
  },
  {
   "cell_type": "code",
   "execution_count": 3,
   "metadata": {
    "collapsed": false
   },
   "outputs": [],
   "source": [
    "nbinclude('Narwhal')\n",
    "n0 = Narwhal(0)\n",
    "n1 = Narwhal(1)"
   ]
  },
  {
   "cell_type": "code",
   "execution_count": 4,
   "metadata": {
    "collapsed": true
   },
   "outputs": [],
   "source": [
    "%matplotlib inline"
   ]
  },
  {
   "cell_type": "markdown",
   "metadata": {},
   "source": [
    "We generate control signals."
   ]
  },
  {
   "cell_type": "code",
   "execution_count": 6,
   "metadata": {
    "collapsed": false
   },
   "outputs": [
    {
     "data": {
      "text/plain": [
       "<matplotlib.text.Text at 0x7f5add7def50>"
      ]
     },
     "execution_count": 6,
     "metadata": {},
     "output_type": "execute_result"
    },
    {
     "data": {
      "image/png": "[encoded data removed]",
      "text/plain": [
       "<matplotlib.figure.Figure at 0x7f5ae79e4250>"
      ]
     },
     "metadata": {},
     "output_type": "display_data"
    }
   ],
   "source": [
    "ts = np.linspace(0, 2*math.pi, 10000)\n",
    "ls = 10.* np.sin(ts)\n",
    "rs = 10.* np.cos(ts)\n",
    "plt.plot(ls)\n",
    "plt.plot(rs)\n",
    "plt.title('Control signals of Funny Trajectory')\n",
    "plt.xlabel('Time(s)')\n",
    "plt.ylabel('Motor Throttle')"
   ]
  },
  {
   "cell_type": "markdown",
   "metadata": {},
   "source": [
    "Now we are interested in seeing the robot's trajectory. We make an array to store the data:"
   ]
  },
  {
   "cell_type": "code",
   "execution_count": 7,
   "metadata": {
    "collapsed": true
   },
   "outputs": [],
   "source": [
    "# time(seconds), x(m), y(m), Rx, Ry, Rz, u_l, u_r\n",
    "traj = np.ndarray(shape=(len(ts), 8))"
   ]
  },
  {
   "cell_type": "markdown",
   "metadata": {},
   "source": [
    "We use a simple synchronous runtime to make recording full state simple."
   ]
  },
  {
   "cell_type": "code",
   "execution_count": 8,
   "metadata": {
    "collapsed": false
   },
   "outputs": [
    {
     "data": {
      "text/plain": [
       "0"
      ]
     },
     "execution_count": 8,
     "metadata": {},
     "output_type": "execute_result"
    }
   ],
   "source": [
    "vrep.simxStartSimulation(Narwhal.cid, vrep.simx_opmode_oneshot_wait)\n",
    "t0 = time.time()\n",
    "for i in xrange(len(ts)):\n",
    "    \n",
    "    t = time.time() - t0\n",
    "    \n",
    "    # act\n",
    "    n0.drive(ls[i], rs[i])\n",
    "    \n",
    "    # Record data.\n",
    "    x,y,z = n0._get_position('zumo')\n",
    "    rx, ry, rz = n0._get_euler_angles('zumo')\n",
    "    traj[i] = t, x, y, rx, ry, rz, ls[i], rs[i]\n",
    "    \n",
    "    # sleep until next loop\n",
    "    time.sleep(.001)\n",
    "n0.drive(0,0)\n",
    "vrep.simxStopSimulation(Narwhal.cid, vrep.simx_opmode_oneshot_wait)"
   ]
  },
  {
   "cell_type": "markdown",
   "metadata": {},
   "source": [
    "Now we can visualize the trajectory in matplotlib!"
   ]
  },
  {
   "cell_type": "code",
   "execution_count": 9,
   "metadata": {
    "collapsed": false
   },
   "outputs": [
    {
     "data": {
      "text/plain": [
       "<matplotlib.text.Text at 0x7f5add70e790>"
      ]
     },
     "execution_count": 9,
     "metadata": {},
     "output_type": "execute_result"
    },
    {
     "data": {
      "image/png": "[encoded data removed]",
      "text/plain": [
       "<matplotlib.figure.Figure at 0x7f5add78d510>"
      ]
     },
     "metadata": {},
     "output_type": "display_data"
    }
   ],
   "source": [
    "plt.scatter(traj.T[1],\n",
    "            traj.T[2],\n",
    "            linewidths=0,\n",
    "            c=traj.T[0])\n",
    "plt.colorbar() # Color is time.\n",
    "plt.title('Funny Trajectory Path in 2D')\n",
    "plt.xlabel('x(m)')\n",
    "plt.ylabel('y(m)')"
   ]
  },
  {
   "cell_type": "markdown",
   "metadata": {},
   "source": [
    "Finally, we serialize the trajectory in a pickle."
   ]
  },
  {
   "cell_type": "code",
   "execution_count": 10,
   "metadata": {
    "collapsed": true
   },
   "outputs": [],
   "source": [
    "import pickle\n",
    "f = open('funny_traj.pkl', 'w')\n",
    "pickle.dump(traj, f)\n",
    "f.close()"
   ]
  },
  {
   "cell_type": "code",
   "execution_count": 1,
   "metadata": {
    "collapsed": false
   },
   "outputs": [
    {
     "name": "stdout",
     "output_type": "stream",
     "text": [
      "1.9M\tfunny_traj.pkl\r\n"
     ]
    }
   ],
   "source": [
    "!du -h funny_traj.pkl"
   ]
  },
  {
   "cell_type": "code",
   "execution_count": 2,
   "metadata": {
    "collapsed": true
   },
   "outputs": [],
   "source": [
    "!gzip funny_traj.pkl"
   ]
  },
  {
   "cell_type": "code",
   "execution_count": 3,
   "metadata": {
    "collapsed": false
   },
   "outputs": [
    {
     "name": "stdout",
     "output_type": "stream",
     "text": [
      "300K\tfunny_traj.pkl.gz\r\n"
     ]
    }
   ],
   "source": [
    "!du -h funny_traj.pkl.gz"
   ]
  }
 ],
 "metadata": {
  "kernelspec": {
   "display_name": "Python 2",
   "language": "python",
   "name": "python2"
  },
  "language_info": {
   "codemirror_mode": {
    "name": "ipython",
    "version": 2
   },
   "file_extension": ".py",
   "mimetype": "text/x-python",
   "name": "python",
   "nbconvert_exporter": "python",
   "pygments_lexer": "ipython2",
   "version": "2.7.6"
  }
 },
 "nbformat": 4,
 "nbformat_minor": 0
}

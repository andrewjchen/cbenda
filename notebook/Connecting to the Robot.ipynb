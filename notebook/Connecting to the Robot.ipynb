{
 "cells": [
  {
   "cell_type": "markdown",
   "metadata": {},
   "source": [
    "First, connect to the network. Look for a network named something like `TP-LINK_7AE2CE`"
   ]
  },
  {
   "cell_type": "code",
   "execution_count": 10,
   "metadata": {
    "collapsed": false
   },
   "outputs": [
    {
     "name": "stdout",
     "output_type": "stream",
     "text": [
      "vboxnet0  Interface doesn't support scanning.\r\n",
      "\r\n",
      "eth2      Interface doesn't support scanning.\r\n",
      "\r\n",
      "lo        Interface doesn't support scanning.\r\n",
      "\r\n",
      "                    ESSID:\"TP-LINK_7AE2CE\"\r\n",
      "                    ESSID:\"CalVisitor\"\r\n",
      "                    ESSID:\"pioneers\"\r\n",
      "                    ESSID:\"AirBears\"\r\n",
      "                    ESSID:\"eduroam\"\r\n",
      "                    ESSID:\"pioneers\"\r\n",
      "                    ESSID:\"eduroam\"\r\n",
      "                    ESSID:\"CalVisitor\"\r\n",
      "                    ESSID:\"AirBears2\"\r\n"
     ]
    }
   ],
   "source": [
    "!iwlist scan  | grep ESSID"
   ]
  },
  {
   "cell_type": "markdown",
   "metadata": {},
   "source": [
    "# Identify the Robot's IP"
   ]
  },
  {
   "cell_type": "markdown",
   "metadata": {},
   "source": [
    "Once connected, you can navigate to http://192.168.0.254, and click \"DHCP\" > \"DHCP Clients List\" to see the clients on the network:"
   ]
  },
  {
   "cell_type": "markdown",
   "metadata": {},
   "source": [
    "<img src=\"http://i.imgur.com/bSvA7ov.png\">"
   ]
  },
  {
   "cell_type": "markdown",
   "metadata": {},
   "source": [
    "You can also use `nmap`:"
   ]
  },
  {
   "cell_type": "code",
   "execution_count": 12,
   "metadata": {
    "collapsed": false
   },
   "outputs": [
    {
     "name": "stdout",
     "output_type": "stream",
     "text": [
      "\n",
      "Starting Nmap 6.40 ( http://nmap.org ) at 2015-04-18 22:53 PDT\n",
      "Nmap scan report for 192.168.0.100\n",
      "Host is up (0.041s latency).\n",
      "Not shown: 997 closed ports\n",
      "PORT      STATE SERVICE\n",
      "22/tcp    open  ssh\n",
      "80/tcp    open  http\n",
      "12345/tcp open  netbus\n",
      "\n",
      "Nmap scan report for 192.168.0.101\n",
      "Host is up (0.0025s latency).\n",
      "Not shown: 998 closed ports\n",
      "PORT    STATE SERVICE\n",
      "139/tcp open  netbios-ssn\n",
      "445/tcp open  microsoft-ds\n",
      "\n",
      "Nmap scan report for 192.168.0.102\n",
      "Host is up (0.0033s latency).\n",
      "Not shown: 995 closed ports\n",
      "PORT     STATE SERVICE\n",
      "22/tcp   open  ssh\n",
      "88/tcp   open  kerberos-sec\n",
      "445/tcp  open  microsoft-ds\n",
      "548/tcp  open  afp\n",
      "4242/tcp open  vrml-multi-use\n",
      "\n",
      "Nmap scan report for 192.168.0.104\n",
      "Host is up (0.000020s latency).\n",
      "Not shown: 999 closed ports\n",
      "PORT   STATE SERVICE\n",
      "22/tcp open  ssh\n",
      "\n",
      "Nmap scan report for 192.168.0.254\n",
      "Host is up (0.0019s latency).\n",
      "Not shown: 955 filtered ports, 43 closed ports\n",
      "PORT     STATE SERVICE\n",
      "80/tcp   open  http\n",
      "1900/tcp open  upnp\n",
      "\n",
      "Nmap done: 256 IP addresses (5 hosts up) scanned in 53.75 seconds\n"
     ]
    }
   ],
   "source": [
    "!nmap 192.168.0.0/24"
   ]
  },
  {
   "cell_type": "markdown",
   "metadata": {},
   "source": [
    "# Running SSH"
   ]
  },
  {
   "cell_type": "markdown",
   "metadata": {},
   "source": [
    "To log into the robot:\n",
    "```bash\n",
    "ssh ubuntu@192.168.0.100\n",
    "```"
   ]
  }
 ],
 "metadata": {
  "kernelspec": {
   "display_name": "Python 2",
   "language": "python",
   "name": "python2"
  },
  "language_info": {
   "codemirror_mode": {
    "name": "ipython",
    "version": 2
   },
   "file_extension": ".py",
   "mimetype": "text/x-python",
   "name": "python",
   "nbconvert_exporter": "python",
   "pygments_lexer": "ipython2",
   "version": "2.7.6"
  }
 },
 "nbformat": 4,
 "nbformat_minor": 0
}

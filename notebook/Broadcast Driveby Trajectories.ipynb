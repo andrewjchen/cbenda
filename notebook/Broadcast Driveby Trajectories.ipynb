{
 "cells": [
  {
   "cell_type": "markdown",
   "metadata": {},
   "source": [
    "In this notebook we will explore how to 'broadcast' controllers on robots in our simulator."
   ]
  },
  {
   "cell_type": "markdown",
   "metadata": {},
   "source": [
    "### V-REP setup"
   ]
  },
  {
   "cell_type": "markdown",
   "metadata": {},
   "source": [
    "By using the \"respondable\" mask for entities in V-REP we can let objects pass through each other, as documented [here.](http://www.coppeliarobotics.com/helpFiles/en/shapeDynamicsProperties.htm)\n",
    "\n",
    "In this setup we have 5 robots stacked on top of each other, and we run different controllers on each robot to efficiently search some sort of controller space.\n",
    "\n",
    "To run mulitple controllers simultaneously, we use the python `multiprocess` module. Each process requires communication to V-REP, so we need to open more remoteAPI socket servers. In this scenario we opened ports 19990 - 19996, in `V-REP/remoteApiConnections.txt`:\n",
    "```\n",
    "//central control\n",
    "portIndex1_port \t\t= 19990\n",
    "portIndex1_debug \t\t= false\n",
    "portIndex1_syncSimTrigger \t= true\n",
    "\n",
    "//rob0\n",
    "portIndex2_port \t\t= 19991\n",
    "portIndex2_debug \t\t= false\n",
    "portIndex2_syncSimTrigger \t= true\n",
    "\n",
    "//rob1\n",
    "portIndex3_port \t\t= 19992\n",
    "portIndex3_debug \t\t= false\n",
    "portIndex3_syncSimTrigger \t= true\n",
    "\n",
    "portIndex4_port \t\t= 19993\n",
    "portIndex4_debug \t\t= false\n",
    "portIndex4_syncSimTrigger \t= true\n",
    "\n",
    "portIndex5_port \t\t= 19994\n",
    "portIndex5_debug \t\t= false\n",
    "portIndex5_syncSimTrigger \t= true\n",
    "\n",
    "portIndex6_port \t\t= 19995\n",
    "portIndex6_debug \t\t= false\n",
    "portIndex6_syncSimTrigger \t= true\n",
    "\n",
    "portIndex7_port \t\t= 19996\n",
    "portIndex7_debug \t\t= false\n",
    "portIndex7_syncSimTrigger \t= true\n",
    "```"
   ]
  },
  {
   "cell_type": "markdown",
   "metadata": {},
   "source": [
    "### Controller Setup"
   ]
  },
  {
   "cell_type": "markdown",
   "metadata": {
    "collapsed": true
   },
   "source": [
    "First we setup the machinery to run a controller."
   ]
  },
  {
   "cell_type": "code",
   "execution_count": 1,
   "metadata": {
    "collapsed": false
   },
   "outputs": [
    {
     "name": "stderr",
     "output_type": "stream",
     "text": [
      "/usr/local/lib/python2.7/dist-packages/IPython/nbformat/current.py:19: UserWarning: IPython.nbformat.current is deprecated.\n",
      "\n",
      "- use IPython.nbformat for read/write/validate public API\n",
      "- use IPython.nbformat.vX directly to composing notebooks of a particular version\n",
      "\n",
      "  \"\"\")\n"
     ]
    }
   ],
   "source": [
    "# Cross-notebook include shim\n",
    "with open(\"nbinclude.ipynb\") as nbinclude_f: # don't rename nbinclude_f\n",
    "    import IPython.nbformat.current\n",
    "    get_ipython().run_cell(IPython.nbformat.current.read(nbinclude_f, 'json').worksheets[0].cells[0].input)\n",
    "nbinclude('Narwhal')"
   ]
  },
  {
   "cell_type": "markdown",
   "metadata": {},
   "source": [
    "Each robot is connected on its own remote API socket.\n",
    "\n",
    "However we need 1 socket to do the high level orchestration of the simulation: checking that the sensors have started reading, and actually automatically starting and stopping the simulation."
   ]
  },
  {
   "cell_type": "code",
   "execution_count": 2,
   "metadata": {
    "collapsed": false
   },
   "outputs": [],
   "source": [
    "cid = vrep.simxStart('127.0.0.1',19990,True,True,5000,5)"
   ]
  },
  {
   "cell_type": "markdown",
   "metadata": {},
   "source": [
    "In this demonstration we are only using the left and right motor throttles as parameters."
   ]
  },
  {
   "cell_type": "code",
   "execution_count": 5,
   "metadata": {
    "collapsed": true
   },
   "outputs": [],
   "source": [
    "lefts = [10, 10, 10, 10, 10]\n",
    "rights = [10, 14, 16, 20, 22]"
   ]
  },
  {
   "cell_type": "markdown",
   "metadata": {},
   "source": [
    "These other parameters are used to setup the simulations and record data from the run."
   ]
  },
  {
   "cell_type": "code",
   "execution_count": 101,
   "metadata": {
    "collapsed": false
   },
   "outputs": [],
   "source": [
    "ports = [19991, 19992, 19993, 19994, 19995]\n",
    "nids = [0,1,2,3,4]\n",
    "narwhals = [Narwhal(cid, n) for n in nids]\n",
    "dicts = [{} for n in nids]"
   ]
  },
  {
   "cell_type": "markdown",
   "metadata": {},
   "source": [
    "`do_driveby` is the control loop. It runs the motors at the throttles `left` and `right` while visual servoing on the robot perimeter collumns."
   ]
  },
  {
   "cell_type": "code",
   "execution_count": 102,
   "metadata": {
    "collapsed": true
   },
   "outputs": [],
   "source": [
    "def do_driveby(cid, nid, left, right, ret_dict):\n",
    "    if cid == -1:\n",
    "        return\n",
    "    narwhal = Narwhal(cid, nid)\n",
    "    traj_data = np.ndarray(shape=(5000, 5))\n",
    "    images = np.ndarray(shape=(5000, 128*3))\n",
    "    \n",
    "    img = np.array(narwhal.get_linescan())\n",
    "    center = 128.*3./2.\n",
    "    \n",
    "    narwhal.drive(left, right)\n",
    "    t0 = time.time()\n",
    "    t = time.time() - t0\n",
    "    for i in xrange(traj_data.shape[0]):\n",
    "\n",
    "        t = time.time() - t0\n",
    "\n",
    "        # process image \n",
    "        img = np.array(narwhal.get_linescan())\n",
    "        com = scipy.ndimage.measurements.center_of_mass(img)[0]\n",
    "        if math.isnan(com):\n",
    "            com = center\n",
    "\n",
    "        # act\n",
    "        error = center - com\n",
    "        vel = .1 * error\n",
    "        narwhal.set_neck_vel(vel)\n",
    "\n",
    "        #record state\n",
    "        x,y,z = narwhal._get_position('zumo')\n",
    "        angle = narwhal.get_neck_pos()\n",
    "        traj_data[i] = t, x, y, angle, vel\n",
    "        if img.shape[0] == images.shape[1]:\n",
    "            images[i] = img\n",
    "\n",
    "        time.sleep(.001)\n",
    "    ret_dict['traj']=traj_data\n",
    "    ret_dict['images']=images\n",
    "    ret_dict['cid']=cid\n",
    "    ret_dict['nid']=nid\n",
    "    ret_dict['left']=left\n",
    "    ret_dict['right']=right"
   ]
  },
  {
   "cell_type": "markdown",
   "metadata": {},
   "source": [
    "### Broadcasting Controllers Serially"
   ]
  },
  {
   "cell_type": "markdown",
   "metadata": {},
   "source": [
    "The following code block serially runs each controller serially."
   ]
  },
  {
   "cell_type": "code",
   "execution_count": 111,
   "metadata": {
    "collapsed": false
   },
   "outputs": [
    {
     "data": {
      "text/plain": [
       "0"
      ]
     },
     "execution_count": 111,
     "metadata": {},
     "output_type": "execute_result"
    }
   ],
   "source": [
    "# Stop all robots.\n",
    "vrep.simxStopSimulation(cid, vrep.simx_opmode_oneshot_wait)\n",
    "for n in narwhals:\n",
    "    n.drive(0,0)\n",
    "\n",
    "# Start simulations\n",
    "vrep.simxStartSimulation(cid, vrep.simx_opmode_oneshot_wait)\n",
    "for i in xrange(len(nids)):\n",
    "    \n",
    "    # run experiment\n",
    "    do_driveby(cid, nids[i], lefts[i], rights[i], dicts[i])\n",
    "    \n",
    "    # stop\n",
    "    time.sleep(.1)\n",
    "    narwhals[i].drive(0,0)\n",
    "    narwhals[i].set_neck_vel(0)\n",
    "\n",
    "vrep.simxStopSimulation(cid, vrep.simx_opmode_oneshot_wait)"
   ]
  },
  {
   "cell_type": "markdown",
   "metadata": {},
   "source": [
    "##### Saving data to disk"
   ]
  },
  {
   "cell_type": "markdown",
   "metadata": {},
   "source": [
    "When we're done we can save all the data to disk for offline inspection."
   ]
  },
  {
   "cell_type": "code",
   "execution_count": 104,
   "metadata": {
    "collapsed": true
   },
   "outputs": [],
   "source": [
    "import pickle\n",
    "f = open('driveby_broadcast_serial.pkl', 'w')\n",
    "pickle.dump(dicts, f)\n",
    "f.close()"
   ]
  },
  {
   "cell_type": "code",
   "execution_count": 105,
   "metadata": {
    "collapsed": false
   },
   "outputs": [
    {
     "name": "stdout",
     "output_type": "stream",
     "text": [
      "297M\tdriveby_broadcast_serial.pkl\r\n"
     ]
    }
   ],
   "source": [
    "!du -h driveby_broadcast_serial.pkl"
   ]
  },
  {
   "cell_type": "code",
   "execution_count": 108,
   "metadata": {
    "collapsed": false
   },
   "outputs": [
    {
     "name": "stdout",
     "output_type": "stream",
     "text": [
      "gzip: driveby_broadcast_serial.pkl: No such file or directory\r\n"
     ]
    }
   ],
   "source": [
    "!gzip driveby_broadcast_serial.pkl"
   ]
  },
  {
   "cell_type": "code",
   "execution_count": 107,
   "metadata": {
    "collapsed": false
   },
   "outputs": [
    {
     "name": "stdout",
     "output_type": "stream",
     "text": [
      "768K\tdriveby_broadcast_serial.pkl.gz\r\n"
     ]
    }
   ],
   "source": [
    "!du -h driveby_broadcast_serial.pkl.gz"
   ]
  },
  {
   "cell_type": "markdown",
   "metadata": {},
   "source": [
    "### Broadcasting Controllers in Parallel"
   ]
  },
  {
   "cell_type": "markdown",
   "metadata": {},
   "source": [
    "Now, let's try to run all controllers simultaneously."
   ]
  },
  {
   "cell_type": "code",
   "execution_count": 10,
   "metadata": {
    "collapsed": true
   },
   "outputs": [],
   "source": [
    "from multiprocessing import Process, Manager, Event, Lock"
   ]
  },
  {
   "cell_type": "code",
   "execution_count": 90,
   "metadata": {
    "collapsed": false
   },
   "outputs": [],
   "source": [
    "manager = Manager()\n",
    "pardicts = [manager.dict() for i in xrange(len(nids))]\n",
    "start_event = Event()"
   ]
  },
  {
   "cell_type": "code",
   "execution_count": 91,
   "metadata": {
    "collapsed": false
   },
   "outputs": [],
   "source": [
    "\"\"\" We need to wrap the `do_driveby` because our simulations now\n",
    "run on separate processes. \"\"\"\n",
    "def do_driveby_multiproc(port, nid, left, right, ret_dict, start_event):\n",
    "    cid = vrep.simxStart('127.0.0.1',port,True,True,5000,5)\n",
    "    if cid == -1:\n",
    "        return\n",
    "    start_event.wait()\n",
    "    do_driveby(cid, nid, left, right, ret_dict)\n",
    "    vrep.simxFinish(cid)"
   ]
  },
  {
   "cell_type": "code",
   "execution_count": 92,
   "metadata": {
    "collapsed": false
   },
   "outputs": [],
   "source": [
    "processes = []\n",
    "for i in xrange(len(nids)):\n",
    "    processes.append(Process(target=do_driveby_multiproc, args=(\n",
    "                                                    ports[i],\n",
    "                                                    nids[i],\n",
    "                                                    lefts[i],\n",
    "                                                    rights[i],\n",
    "                                                    pardicts[i],\n",
    "                                                    start_event)))"
   ]
  },
  {
   "cell_type": "code",
   "execution_count": 93,
   "metadata": {
    "collapsed": false
   },
   "outputs": [
    {
     "name": "stderr",
     "output_type": "stream",
     "text": [
      "/usr/lib/python2.7/dist-packages/scipy/ndimage/measurements.py:1271: RuntimeWarning: invalid value encountered in double_scalars\n",
      "  for dir in range(input.ndim)]\n",
      "/usr/lib/python2.7/dist-packages/scipy/ndimage/measurements.py:1271: RuntimeWarning: invalid value encountered in double_scalars\n",
      "  for dir in range(input.ndim)]\n",
      "/usr/lib/python2.7/dist-packages/scipy/ndimage/measurements.py:1271: RuntimeWarning: invalid value encountered in double_scalars\n",
      "  for dir in range(input.ndim)]\n",
      "/usr/lib/python2.7/dist-packages/scipy/ndimage/measurements.py:1271: RuntimeWarning: invalid value encountered in double_scalars\n",
      "  for dir in range(input.ndim)]\n",
      "/usr/lib/python2.7/dist-packages/scipy/ndimage/measurements.py:1271: RuntimeWarning: invalid value encountered in double_scalars\n",
      "  for dir in range(input.ndim)]\n"
     ]
    },
    {
     "data": {
      "text/plain": [
       "0"
      ]
     },
     "execution_count": 93,
     "metadata": {},
     "output_type": "execute_result"
    }
   ],
   "source": [
    "vrep.simxStartSimulation(cid, vrep.simx_opmode_oneshot_wait)\n",
    "for process in processes:\n",
    "    process.start()\n",
    "start_event.set()\n",
    "for process in processes:\n",
    "    process.join()\n",
    "vrep.simxStopSimulation(cid, vrep.simx_opmode_oneshot_wait)"
   ]
  },
  {
   "cell_type": "markdown",
   "metadata": {},
   "source": [
    "##### Saving data to disk"
   ]
  },
  {
   "cell_type": "code",
   "execution_count": null,
   "metadata": {
    "collapsed": true
   },
   "outputs": [],
   "source": [
    "dictscopied = []\n",
    "for d in pardicts:\n",
    "    dictscopied.append(d.copy())"
   ]
  },
  {
   "cell_type": "code",
   "execution_count": 95,
   "metadata": {
    "collapsed": false
   },
   "outputs": [],
   "source": [
    "import pickle\n",
    "f = open('driveby_broadcast_parallel.pkl', 'w')\n",
    "pickle.dump(dictscopied, f)\n",
    "f.close()"
   ]
  },
  {
   "cell_type": "code",
   "execution_count": 96,
   "metadata": {
    "collapsed": false
   },
   "outputs": [
    {
     "name": "stdout",
     "output_type": "stream",
     "text": [
      "297M\tdriveby_broadcast_parallel.pkl\r\n"
     ]
    }
   ],
   "source": [
    "!du -h driveby_broadcast_parallel.pkl"
   ]
  },
  {
   "cell_type": "code",
   "execution_count": 109,
   "metadata": {
    "collapsed": true
   },
   "outputs": [],
   "source": [
    "!gzip driveby_broadcast_parallel.pkl"
   ]
  },
  {
   "cell_type": "code",
   "execution_count": 110,
   "metadata": {
    "collapsed": false
   },
   "outputs": [
    {
     "name": "stdout",
     "output_type": "stream",
     "text": [
      "772K\tdriveby_broadcast_parallel.pkl.gz\r\n"
     ]
    }
   ],
   "source": [
    "!du -h driveby_broadcast_parallel.pkl.gz"
   ]
  },
  {
   "cell_type": "code",
   "execution_count": null,
   "metadata": {
    "collapsed": true
   },
   "outputs": [],
   "source": []
  }
 ],
 "metadata": {
  "kernelspec": {
   "display_name": "Python 2",
   "language": "python",
   "name": "python2"
  },
  "language_info": {
   "codemirror_mode": {
    "name": "ipython",
    "version": 2
   },
   "file_extension": ".py",
   "mimetype": "text/x-python",
   "name": "python",
   "nbconvert_exporter": "python",
   "pygments_lexer": "ipython2",
   "version": "2.7.6"
  }
 },
 "nbformat": 4,
 "nbformat_minor": 0
}

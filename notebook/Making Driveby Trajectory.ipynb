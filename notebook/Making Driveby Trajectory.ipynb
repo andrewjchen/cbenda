{
 "cells": [
  {
   "cell_type": "markdown",
   "metadata": {},
   "source": [
    "In this notebook we run a control loop and synchronously record data."
   ]
  },
  {
   "cell_type": "markdown",
   "metadata": {},
   "source": [
    "We can first try doing this in the same python process, in the same loop.\n",
    "\n",
    "Some boilerplate code to bringup the robots:"
   ]
  },
  {
   "cell_type": "code",
   "execution_count": 4,
   "metadata": {
    "collapsed": false
   },
   "outputs": [],
   "source": [
    "# Cross-notebook include shim\n",
    "with open(\"nbinclude.ipynb\") as nbinclude_f: # don't rename nbinclude_f\n",
    "    import IPython.nbformat.current\n",
    "    get_ipython().run_cell(IPython.nbformat.current.read(nbinclude_f, 'json').worksheets[0].cells[0].input)"
   ]
  },
  {
   "cell_type": "code",
   "execution_count": 5,
   "metadata": {
    "collapsed": false
   },
   "outputs": [
    {
     "name": "stdout",
     "output_type": "stream",
     "text": [
      "Populating the interactive namespace from numpy and matplotlib\n"
     ]
    }
   ],
   "source": [
    "nbinclude('Narwhal')\n",
    "cid = vrep.simxStart('127.0.0.1',19990,True,True,5000,5)\n",
    "n0 = Narwhal(0,cid)\n",
    "n1 = Narwhal(1,cid)\n",
    "narwhals=Narwhal.all_narwhals.values()"
   ]
  },
  {
   "cell_type": "code",
   "execution_count": 6,
   "metadata": {
    "collapsed": false
   },
   "outputs": [],
   "source": [
    "%matplotlib inline"
   ]
  },
  {
   "cell_type": "code",
   "execution_count": 121,
   "metadata": {
    "collapsed": true
   },
   "outputs": [],
   "source": [
    "traj = np.ndarray(shape=(len(ts), 5))\n",
    "images = np.ndarray(shape=(10000, 128*3))"
   ]
  },
  {
   "cell_type": "markdown",
   "metadata": {},
   "source": [
    "```\n",
    "0. Time\n",
    "1. X position\n",
    "2. Y Position\n",
    "3. Neck angle\n",
    "4. Control signal Neck\n",
    "```"
   ]
  },
  {
   "cell_type": "code",
   "execution_count": 123,
   "metadata": {
    "collapsed": false
   },
   "outputs": [
    {
     "data": {
      "text/plain": [
       "0"
      ]
     },
     "execution_count": 123,
     "metadata": {},
     "output_type": "execute_result"
    }
   ],
   "source": [
    "vrep.simxStartSimulation(Narwhal.cid, vrep.simx_opmode_oneshot_wait)\n",
    "\n",
    "img = np.array(n0.get_linescan())\n",
    "while sum(img) is 0:\n",
    "    img = np.array(n0.get_linescan())\n",
    "    time.sleep(.1)\n",
    "center = img.shape[0]/2\n",
    "# print img\n",
    "\n",
    "n0.drive(5., 5.)\n",
    "\n",
    "t0 = time.time()\n",
    "t = time.time() - t0\n",
    "for i in xrange(images.shape[0]):\n",
    "    \n",
    "    t = time.time() - t0\n",
    "    \n",
    "    # process image \n",
    "    img = np.array(n0.get_linescan())\n",
    "    com = scipy.ndimage.measurements.center_of_mass(img)[0]\n",
    "    if math.isnan(com):\n",
    "        com = center\n",
    "    \n",
    "    # act\n",
    "    error = center - com\n",
    "    vel = .1 * error\n",
    "    n0.set_neck_vel(vel)\n",
    "    \n",
    "    #record state\n",
    "    x,y,z = n0._get_position('zumo')\n",
    "    angle = n0.get_neck_pos()\n",
    "    traj[i] = t, x, y, angle, vel\n",
    "    images[i] = img\n",
    "    \n",
    "    time.sleep(.001)\n",
    "vrep.simxStopSimulation(Narwhal.cid, vrep.simx_opmode_oneshot_wait)"
   ]
  },
  {
   "cell_type": "code",
   "execution_count": 129,
   "metadata": {
    "collapsed": false
   },
   "outputs": [
    {
     "data": {
      "text/plain": [
       "<matplotlib.text.Text at 0x7f8f7398fd50>"
      ]
     },
     "execution_count": 129,
     "metadata": {},
     "output_type": "execute_result"
    },
    {
     "data": {
      "image/png": "[encoded data removed]",
      "text/plain": [
       "<matplotlib.figure.Figure at 0x7f8f73949c90>"
      ]
     },
     "metadata": {},
     "output_type": "display_data"
    }
   ],
   "source": [
    "plt.scatter(traj.T[1],\n",
    "            traj.T[2],\n",
    "            linewidths=0,\n",
    "            c=traj.T[0])\n",
    "plt.colorbar() # Color is time.\n",
    "plt.title('Driveby Trajectory Path in 2D')\n",
    "plt.xlabel('x(m)')\n",
    "plt.ylabel('y(m)')"
   ]
  },
  {
   "cell_type": "code",
   "execution_count": 130,
   "metadata": {
    "collapsed": false
   },
   "outputs": [
    {
     "data": {
      "text/plain": [
       "<matplotlib.text.Text at 0x7f8f73951910>"
      ]
     },
     "execution_count": 130,
     "metadata": {},
     "output_type": "execute_result"
    },
    {
     "data": {
      "image/png": "[encoded data removed]",
      "text/plain": [
       "<matplotlib.figure.Figure at 0x7f8f78902350>"
      ]
     },
     "metadata": {},
     "output_type": "display_data"
    }
   ],
   "source": [
    "plt.plot(traj.T[0], traj.T[3])\n",
    "plt.title('Driveby Neck Servo Angle')\n",
    "plt.xlabel('Time(s)')\n",
    "plt.ylabel('Neck angle(rad')"
   ]
  },
  {
   "cell_type": "code",
   "execution_count": 128,
   "metadata": {
    "collapsed": true
   },
   "outputs": [],
   "source": [
    "data_dict = {'images':images, 'traj':traj, 'U_l':5, 'U_r':5}"
   ]
  },
  {
   "cell_type": "code",
   "execution_count": 131,
   "metadata": {
    "collapsed": true
   },
   "outputs": [],
   "source": [
    "import pickle\n",
    "f = open('driveby_traj.pkl', 'w')\n",
    "pickle.dump(data_dict, f)\n",
    "f.close()"
   ]
  },
  {
   "cell_type": "code",
   "execution_count": 132,
   "metadata": {
    "collapsed": false
   },
   "outputs": [
    {
     "name": "stdout",
     "output_type": "stream",
     "text": [
      "119M\tdriveby_traj.pkl\r\n"
     ]
    }
   ],
   "source": [
    "!du -h driveby_traj.pkl"
   ]
  },
  {
   "cell_type": "code",
   "execution_count": 1,
   "metadata": {
    "collapsed": true
   },
   "outputs": [],
   "source": [
    "!gzip driveby_traj.pkl"
   ]
  },
  {
   "cell_type": "code",
   "execution_count": 2,
   "metadata": {
    "collapsed": false
   },
   "outputs": [
    {
     "name": "stdout",
     "output_type": "stream",
     "text": [
      "332K\tdriveby_traj.pkl.gz\r\n"
     ]
    }
   ],
   "source": [
    "!du -h driveby_traj.pkl.gz"
   ]
  },
  {
   "cell_type": "code",
   "execution_count": null,
   "metadata": {
    "collapsed": true
   },
   "outputs": [],
   "source": []
  }
 ],
 "metadata": {
  "kernelspec": {
   "display_name": "Python 2",
   "language": "python",
   "name": "python2"
  },
  "language_info": {
   "codemirror_mode": {
    "name": "ipython",
    "version": 2
   },
   "file_extension": ".py",
   "mimetype": "text/x-python",
   "name": "python",
   "nbconvert_exporter": "python",
   "pygments_lexer": "ipython2",
   "version": "2.7.6"
  }
 },
 "nbformat": 4,
 "nbformat_minor": 0
}

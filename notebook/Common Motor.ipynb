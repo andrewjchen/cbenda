{
 "cells": [
  {
   "cell_type": "code",
   "execution_count": 1,
   "metadata": {
    "collapsed": false
   },
   "outputs": [
    {
     "name": "stderr",
     "output_type": "stream",
     "text": [
      "/usr/local/lib/python2.7/dist-packages/IPython/nbformat/current.py:19: UserWarning: IPython.nbformat.current is deprecated.\n",
      "\n",
      "- use IPython.nbformat for read/write/validate public API\n",
      "- use IPython.nbformat.vX directly to composing notebooks of a particular version\n",
      "\n",
      "  \"\"\")\n"
     ]
    }
   ],
   "source": [
    "# Cross-notebook include shim\n",
    "with open(\"nbinclude.ipynb\") as nbinclude_f: # don't rename nbinclude_f\n",
    "    import IPython.nbformat.current\n",
    "    get_ipython().run_cell(IPython.nbformat.current.read(nbinclude_f, 'json').worksheets[0].cells[0].input)\n",
    "nbinclude('Common API')"
   ]
  },
  {
   "cell_type": "code",
   "execution_count": 2,
   "metadata": {
    "collapsed": false
   },
   "outputs": [],
   "source": [
    "import grizzly\n",
    "class USBMotor(Motor):\n",
    "    def __init__(self, name):\n",
    "        super(USBMotor, self).__init__(name)\n",
    "        self._device = grizzly.Grizzly(name) # TODO \n",
    "        self._device.set_mode(grizzly.ControlMode.NO_PID,\n",
    "                              grizzly.DriveMode.DRIVE_COAST)\n",
    "        self._device.limit_acceleration(142)\n",
    "        self._device.limit_current(10)\n",
    "        \n",
    "    @property\n",
    "    def throttle(self):\n",
    "        value = Motor.throttle.fget(self)\n",
    "        return value\n",
    "    \n",
    "    @throttle.setter\n",
    "    def throttle(self, value):\n",
    "        Motor.throttle.fset(self, value)\n",
    "        self._device.set_target(value)"
   ]
  },
  {
   "cell_type": "code",
   "execution_count": 3,
   "metadata": {
    "collapsed": true
   },
   "outputs": [],
   "source": [
    "#NBINCLUDE_STOP"
   ]
  },
  {
   "cell_type": "markdown",
   "metadata": {},
   "source": [
    "This uses the multiple USB grizzlies patch:\n",
    "https://github.com/pioneers/python-grizzly/pull/8"
   ]
  },
  {
   "cell_type": "code",
   "execution_count": 4,
   "metadata": {
    "collapsed": false
   },
   "outputs": [
    {
     "data": {
      "text/plain": [
       "[6]"
      ]
     },
     "execution_count": 4,
     "metadata": {},
     "output_type": "execute_result"
    }
   ],
   "source": [
    "grizzly.Grizzly.get_all_ids()"
   ]
  },
  {
   "cell_type": "code",
   "execution_count": 5,
   "metadata": {
    "collapsed": true
   },
   "outputs": [],
   "source": [
    "motor = USBMotor(6)"
   ]
  },
  {
   "cell_type": "code",
   "execution_count": null,
   "metadata": {
    "collapsed": true
   },
   "outputs": [],
   "source": [
    "motor.throttle = 100"
   ]
  },
  {
   "cell_type": "code",
   "execution_count": 9,
   "metadata": {
    "collapsed": false
   },
   "outputs": [],
   "source": [
    "motor.throttle = 0"
   ]
  }
 ],
 "metadata": {
  "kernelspec": {
   "display_name": "Python 2",
   "language": "python",
   "name": "python2"
  },
  "language_info": {
   "codemirror_mode": {
    "name": "ipython",
    "version": 2
   },
   "file_extension": ".py",
   "mimetype": "text/x-python",
   "name": "python",
   "nbconvert_exporter": "python",
   "pygments_lexer": "ipython2",
   "version": "2.7.6"
  }
 },
 "nbformat": 4,
 "nbformat_minor": 0
}

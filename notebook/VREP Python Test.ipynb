{
 "cells": [
  {
   "cell_type": "code",
   "execution_count": null,
   "metadata": {
    "collapsed": false
   },
   "outputs": [],
   "source": [
    "# Copyright 2006-2014 Coppelia Robotics GmbH. All rights reserved.\n",
    "# marc@coppeliarobotics.com\n",
    "# www.coppeliarobotics.com\n",
    "# \n",
    "# -------------------------------------------------------------------\n",
    "# THIS FILE IS DISTRIBUTED \"AS IS\", WITHOUT ANY EXPRESS OR IMPLIED\n",
    "# WARRANTY. THE USER WILL USE IT AT HIS/HER OWN RISK. THE ORIGINAL\n",
    "# AUTHORS AND COPPELIA ROBOTICS GMBH WILL NOT BE LIABLE FOR DATA LOSS,\n",
    "# DAMAGES, LOSS OF PROFITS OR ANY OTHER KIND OF LOSS WHILE USING OR\n",
    "# MISUSING THIS SOFTWARE.\n",
    "# \n",
    "# You are free to use/modify/distribute this file for whatever purpose!\n",
    "# -------------------------------------------------------------------\n",
    "#\n",
    "# This file was automatically created for V-REP release V3.2.0 on Feb. 3rd 2015\n",
    "\n",
    "# Make sure to have the server side running in V-REP: \n",
    "# in a child script of a V-REP scene, add following command\n",
    "# to be executed just once, at simulation start:\n",
    "#\n",
    "# simExtRemoteApiStart(19999)\n",
    "#\n",
    "# then start simulation, and run this program.\n",
    "#\n",
    "# IMPORTANT: for each successful call to simxStart, there\n",
    "# should be a corresponding call to simxFinish at the end!"
   ]
  },
  {
   "cell_type": "code",
   "execution_count": 1,
   "metadata": {
    "collapsed": false
   },
   "outputs": [
    {
     "name": "stdout",
     "output_type": "stream",
     "text": [
      "Program started\n"
     ]
    },
    {
     "data": {
      "text/plain": [
       "0"
      ]
     },
     "execution_count": 1,
     "metadata": {},
     "output_type": "execute_result"
    }
   ],
   "source": [
    "import vrep\n",
    "\n",
    "print ('Program started')\n",
    "vrep.simxFinish(-1) # just in case, close all opened connections\n",
    "clientID=vrep.simxStart('127.0.0.1',19997,True,True,5000,5)\n",
    "clientID"
   ]
  },
  {
   "cell_type": "code",
   "execution_count": 5,
   "metadata": {
    "collapsed": false
   },
   "outputs": [
    {
     "data": {
      "text/plain": [
       "(0,\n",
       " [0,\n",
       "  1,\n",
       "  2,\n",
       "  3,\n",
       "  4,\n",
       "  5,\n",
       "  6,\n",
       "  7,\n",
       "  8,\n",
       "  9,\n",
       "  10,\n",
       "  11,\n",
       "  12,\n",
       "  13,\n",
       "  14,\n",
       "  15,\n",
       "  16,\n",
       "  17,\n",
       "  18,\n",
       "  19,\n",
       "  20,\n",
       "  21,\n",
       "  22,\n",
       "  23,\n",
       "  24,\n",
       "  25,\n",
       "  26,\n",
       "  27,\n",
       "  28,\n",
       "  29,\n",
       "  30,\n",
       "  31,\n",
       "  32,\n",
       "  33,\n",
       "  34,\n",
       "  35,\n",
       "  36,\n",
       "  37,\n",
       "  38,\n",
       "  39,\n",
       "  40,\n",
       "  41,\n",
       "  42,\n",
       "  43,\n",
       "  44,\n",
       "  45,\n",
       "  46])"
      ]
     },
     "execution_count": 5,
     "metadata": {},
     "output_type": "execute_result"
    }
   ],
   "source": [
    "res,objs=vrep.simxGetObjects(clientID,\n",
    "                             vrep.sim_handle_all,\n",
    "                             vrep.simx_opmode_oneshot_wait)\n",
    "res, objs"
   ]
  },
  {
   "cell_type": "code",
   "execution_count": null,
   "metadata": {
    "collapsed": false
   },
   "outputs": [],
   "source": []
  },
  {
   "cell_type": "code",
   "execution_count": 4,
   "metadata": {
    "collapsed": false
   },
   "outputs": [
    {
     "name": "stdout",
     "output_type": "stream",
     "text": [
      "Program started\n",
      "Connected to remote API server\n",
      "('Number of objects in the scene: ', 47)\n",
      "Program ended\n"
     ]
    }
   ],
   "source": []
  },
  {
   "cell_type": "code",
   "execution_count": null,
   "metadata": {
    "collapsed": false
   },
   "outputs": [],
   "source": []
  }
 ],
 "metadata": {
  "kernelspec": {
   "display_name": "Python 2",
   "language": "python",
   "name": "python2"
  },
  "language_info": {
   "codemirror_mode": {
    "name": "ipython",
    "version": 2
   },
   "file_extension": ".py",
   "mimetype": "text/x-python",
   "name": "python",
   "nbconvert_exporter": "python",
   "pygments_lexer": "ipython2",
   "version": "2.7.6"
  }
 },
 "nbformat": 4,
 "nbformat_minor": 0
}

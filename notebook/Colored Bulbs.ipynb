{
 "cells": [
  {
   "cell_type": "markdown",
   "metadata": {},
   "source": [
    "### Steer the flashlight, and see bulbs change color on the V-REP scene."
   ]
  },
  {
   "cell_type": "markdown",
   "metadata": {},
   "source": [
    "##### First: make bulbs change color."
   ]
  },
  {
   "cell_type": "code",
   "execution_count": 1,
   "metadata": {
    "collapsed": false
   },
   "outputs": [
    {
     "name": "stdout",
     "output_type": "stream",
     "text": [
      "Populating the interactive namespace from numpy and matplotlib\n"
     ]
    }
   ],
   "source": [
    "%pylab inline\n",
    "import rospy, tf\n",
    "import vrep_common.srv\n",
    "import geometry_msgs.msg, std_msgs.msg\n",
    "import time\n",
    "import matplotlib.pyplot as plt\n",
    "import pylab\n",
    "import numpy as np"
   ]
  },
  {
   "cell_type": "code",
   "execution_count": 2,
   "metadata": {
    "collapsed": false
   },
   "outputs": [],
   "source": [
    "rospy.init_node('colored_bulbs')"
   ]
  },
  {
   "cell_type": "code",
   "execution_count": 3,
   "metadata": {
    "collapsed": false
   },
   "outputs": [],
   "source": [
    "srv = rospy.ServiceProxy('/vrep/simRosSetFloatSignal', vrep_common.srv.simRosSetFloatSignal)"
   ]
  },
  {
   "cell_type": "code",
   "execution_count": 20,
   "metadata": {
    "collapsed": false
   },
   "outputs": [
    {
     "data": {
      "text/plain": [
       "result: 1"
      ]
     },
     "execution_count": 20,
     "metadata": {},
     "output_type": "execute_result"
    }
   ],
   "source": [
    "srv('/sphere0/color/r', 100)\n",
    "srv('/sphere0/color/g', 100)\n",
    "srv('/sphere0/color/b', 100)"
   ]
  },
  {
   "cell_type": "markdown",
   "metadata": {},
   "source": [
    "##### Next: flashlight model"
   ]
  },
  {
   "cell_type": "code",
   "execution_count": 4,
   "metadata": {
    "collapsed": false
   },
   "outputs": [],
   "source": [
    "class Light:\n",
    "    listener=tf.TransformListener()\n",
    "    def __init__(self, frame_id, cone_h=10.0, cone_r=10.0):\n",
    "        self.frame_id = frame_id\n",
    "        self.cone_h = cone_h\n",
    "        self.cone_r = cone_r\n",
    "        \n",
    "    def lightval(self, pt):\n",
    "        headtrans, headrot = Light.listener.lookupTransform(\n",
    "                            '/world', self.frame_id, rospy.Time(0))\n",
    "        \n",
    "        headmat = Light.listener.fromTranslationRotation(headtrans, headrot)\n",
    "        point0= headmat * np.matrix([[0, 0, 0, 1]]).T\n",
    "        direction_vector = headmat * np.matrix([[1, 0, 0, 1]]).T - point0\n",
    "        \n",
    "        dummypos_vect = np.matrix([[pt[0], pt[1], pt[2], 1]]).T\n",
    "       \n",
    "        dist = np.dot(direction_vector.A1, dummypos_vect.A1)\n",
    "        dist_vect = dist * direction_vector\n",
    "        \n",
    "        radius_at_point = (dist / self.cone_h) * self.cone_r\n",
    "        \n",
    "        rel_vect = dummypos_vect - point0\n",
    "        to_get_distance = (rel_vect - dist_vect).A1\n",
    "        ortho_dist = np.sqrt(np.dot(to_get_distance, to_get_distance))\n",
    "        light = radius_at_point - ortho_dist\n",
    "        return 0 if light <=0 else light\n",
    "        "
   ]
  },
  {
   "cell_type": "code",
   "execution_count": 5,
   "metadata": {
    "collapsed": false
   },
   "outputs": [
    {
     "data": {
      "text/plain": [
       "<matplotlib.colorbar.Colorbar instance at 0x7f5568f426c8>"
      ]
     },
     "execution_count": 5,
     "metadata": {},
     "output_type": "execute_result"
    },
    {
     "data": {
      "image/png": "[encoded data removed]",
      "text/plain": [
       "<matplotlib.figure.Figure at 0x7f55685beed0>"
      ]
     },
     "metadata": {},
     "output_type": "display_data"
    }
   ],
   "source": [
    "l = Light('/head0', 20., 10.)\n",
    "xs = np.linspace(-1.0, 1.0, 100)\n",
    "ys = np.linspace(-1.0, 1.0, 100)\n",
    "img=np.ndarray(shape=(len(ys), len(xs)), dtype=float)\n",
    "for i in xrange(len(xs)):\n",
    "    for j in xrange(len(ys)):\n",
    "        x = xs[i]\n",
    "        y = ys[j]\n",
    "        img[i][j] = l.lightval((x,y,0))\n",
    "plt.imshow(img)\n",
    "plt.colorbar()"
   ]
  },
  {
   "cell_type": "code",
   "execution_count": 6,
   "metadata": {
    "collapsed": false
   },
   "outputs": [],
   "source": [
    "class Sphere:\n",
    "    srv = rospy.ServiceProxy('/vrep/simRosSetFloatSignal', vrep_common.srv.simRosSetFloatSignal)\n",
    "    listener=tf.TransformListener()\n",
    "    \n",
    "    def __init__(self, sid):\n",
    "        self.sid=sid\n",
    "        self.frame_id='/sphere{0}'.format(sid)\n",
    "        self.r_sig='/sphere{0}/color/r'.format(sid)\n",
    "        self.g_sig='/sphere{0}/color/g'.format(sid)\n",
    "        self.b_sig='/sphere{0}/color/b'.format(sid)\n",
    "        \n",
    "    def set_color(self, r, g, b):\n",
    "        Sphere.srv(self.r_sig, r)\n",
    "        Sphere.srv(self.g_sig, g)\n",
    "        Sphere.srv(self.b_sig, b)\n",
    "\n",
    "    def get_position(self):\n",
    "        trans, rot = Sphere.listener.lookupTransform(\n",
    "                            '/world', self.frame_id, rospy.Time(0))\n",
    "        return trans"
   ]
  },
  {
   "cell_type": "code",
   "execution_count": 7,
   "metadata": {
    "collapsed": false
   },
   "outputs": [],
   "source": [
    "s = Sphere(0)"
   ]
  },
  {
   "cell_type": "code",
   "execution_count": 8,
   "metadata": {
    "collapsed": false
   },
   "outputs": [],
   "source": [
    "s.set_color(100,0,0)"
   ]
  },
  {
   "cell_type": "code",
   "execution_count": 9,
   "metadata": {
    "collapsed": false
   },
   "outputs": [
    {
     "data": {
      "text/plain": [
       "(0.6229458451271057, 0.3706493079662323, 0.04999992251396179)"
      ]
     },
     "execution_count": 9,
     "metadata": {},
     "output_type": "execute_result"
    }
   ],
   "source": [
    "s.get_position()"
   ]
  },
  {
   "cell_type": "code",
   "execution_count": 10,
   "metadata": {
    "collapsed": false
   },
   "outputs": [
    {
     "ename": "NameError",
     "evalue": "name '_34' is not defined",
     "output_type": "error",
     "traceback": [
      "\u001b[1;31m---------------------------------------------------------------------------\u001b[0m\n\u001b[1;31mNameError\u001b[0m                                 Traceback (most recent call last)",
      "\u001b[1;32m<ipython-input-10-073be6084ad8>\u001b[0m in \u001b[0;36m<module>\u001b[1;34m()\u001b[0m\n\u001b[1;32m----> 1\u001b[1;33m \u001b[0ml\u001b[0m\u001b[1;33m.\u001b[0m\u001b[0mlightval\u001b[0m\u001b[1;33m(\u001b[0m\u001b[0m_34\u001b[0m\u001b[1;33m)\u001b[0m\u001b[1;33m\u001b[0m\u001b[0m\n\u001b[0m",
      "\u001b[1;31mNameError\u001b[0m: name '_34' is not defined"
     ]
    }
   ],
   "source": [
    "l.lightval(_34)"
   ]
  },
  {
   "cell_type": "code",
   "execution_count": 11,
   "metadata": {
    "collapsed": false
   },
   "outputs": [],
   "source": [
    "l = Light('/head0', 10., 10.)"
   ]
  },
  {
   "cell_type": "code",
   "execution_count": 12,
   "metadata": {
    "collapsed": false
   },
   "outputs": [],
   "source": [
    "spheres = []\n",
    "for i in range(13):\n",
    "    spheres.append(Sphere(i))"
   ]
  },
  {
   "cell_type": "code",
   "execution_count": 11,
   "metadata": {
    "collapsed": false
   },
   "outputs": [
    {
     "name": "stdout",
     "output_type": "stream",
     "text": [
      "100000 loops, best of 3: 5.58 µs per loop\n"
     ]
    }
   ],
   "source": [
    "%%timeit\n",
    "spheres[0].get_position()"
   ]
  },
  {
   "cell_type": "code",
   "execution_count": 12,
   "metadata": {
    "collapsed": false
   },
   "outputs": [
    {
     "name": "stdout",
     "output_type": "stream",
     "text": [
      "1 loops, best of 3: 373 ms per loop\n"
     ]
    }
   ],
   "source": [
    "%%timeit\n",
    "spheres[0].set_color(0,0,0)"
   ]
  },
  {
   "cell_type": "code",
   "execution_count": null,
   "metadata": {
    "collapsed": false
   },
   "outputs": [],
   "source": [
    "%%timeit\n",
    "spheres[0].set_color(0,0,0)"
   ]
  },
  {
   "cell_type": "code",
   "execution_count": 13,
   "metadata": {
    "collapsed": false
   },
   "outputs": [
    {
     "name": "stdout",
     "output_type": "stream",
     "text": [
      "10000 loops, best of 3: 147 µs per loop\n"
     ]
    }
   ],
   "source": [
    "%%timeit\n",
    "l.lightval(pos)"
   ]
  },
  {
   "cell_type": "code",
   "execution_count": 15,
   "metadata": {
    "collapsed": false
   },
   "outputs": [],
   "source": [
    "for s in spheres:\n",
    "    s.set_color(100, 100, 100)"
   ]
  },
  {
   "cell_type": "code",
   "execution_count": null,
   "metadata": {
    "collapsed": false
   },
   "outputs": [],
   "source": [
    "while True:\n",
    "    for s in spheres:\n",
    "        pos = s.get_position()\n",
    "        lightval = l.lightval(pos)\n",
    "        color=10. * lightval\n",
    "        s.set_color(color, color, color)\n",
    "#     time.sleep(.01)\n",
    "    "
   ]
  },
  {
   "cell_type": "code",
   "execution_count": null,
   "metadata": {
    "collapsed": false
   },
   "outputs": [],
   "source": []
  }
 ],
 "metadata": {
  "kernelspec": {
   "display_name": "Python 2",
   "language": "python",
   "name": "python2"
  },
  "language_info": {
   "codemirror_mode": {
    "name": "ipython",
    "version": 2
   },
   "file_extension": ".py",
   "mimetype": "text/x-python",
   "name": "python",
   "nbconvert_exporter": "python",
   "pygments_lexer": "ipython2",
   "version": "2.7.6"
  }
 },
 "nbformat": 4,
 "nbformat_minor": 0
}
